{
 "cells": [
  {
   "cell_type": "markdown",
   "metadata": {},
   "source": [
    "# No.1"
   ]
  },
  {
   "cell_type": "markdown",
   "metadata": {},
   "source": [
    "<img src= 'Screen Shot 2022-06-21 at 18.06.46.png'>"
   ]
  },
  {
   "cell_type": "code",
   "execution_count": 7,
   "metadata": {},
   "outputs": [],
   "source": [
    "import numpy as np\n",
    "import matplotlib.pyplot as plt"
   ]
  },
  {
   "cell_type": "code",
   "execution_count": 16,
   "metadata": {},
   "outputs": [
    {
     "name": "stdout",
     "output_type": "stream",
     "text": [
      "[[[[23 50]\n",
      "   [ 7 12]]\n",
      "\n",
      "  [[57 67]\n",
      "   [99 43]]]\n",
      "\n",
      "\n",
      " [[[75 21]\n",
      "   [57 12]]\n",
      "\n",
      "  [[87 26]\n",
      "   [18 84]]]]\n",
      "4\n",
      "(2, 2, 2, 2)\n"
     ]
    }
   ],
   "source": [
    "Tensor_4D = np.array([\n",
    "    [[[23, 50],\n",
    "    [7, 12]],\n",
    "    [[57,67],\n",
    "    [99,43]]],\n",
    "    [[[75, 21],\n",
    "    [57, 12]],\n",
    "    [[87,26],\n",
    "    [18,84]]]\n",
    "])\n",
    "\n",
    "print(Tensor_4D)\n",
    "print(Tensor_4D.ndim)\n",
    "print(Tensor_4D.shape) #kalo dimensinya 4D shape nya (jml3D, jml2D, jml1D, jmldidalam1D)"
   ]
  },
  {
   "cell_type": "markdown",
   "metadata": {},
   "source": [
    "# No.2"
   ]
  },
  {
   "cell_type": "markdown",
   "metadata": {},
   "source": [
    "<img src='Screen Shot 2022-06-21 at 18.26.34.png'>"
   ]
  },
  {
   "cell_type": "markdown",
   "metadata": {},
   "source": [
    "disini A adalah matrix 3x3, sedangkan B (harusnya b kecil) adalah vektor 3x1. Karenanya bisa dilakukan perkalian (di matriks perkalian itu maksudnya dot product), sedangkan perkalian antar elemen dinamakan hadamard product."
   ]
  },
  {
   "cell_type": "code",
   "execution_count": 18,
   "metadata": {},
   "outputs": [
    {
     "data": {
      "text/plain": [
       "array([1852, 2454, 4305])"
      ]
     },
     "execution_count": 18,
     "metadata": {},
     "output_type": "execute_result"
    }
   ],
   "source": [
    "A = np.array([\n",
    "    [23, 50, 19],\n",
    "    [7, 12, 109],\n",
    "    [57, 67, 98]\n",
    "])\n",
    "\n",
    "b = np.array(\n",
    "    [17,22,19]\n",
    ")\n",
    "\n",
    "A@b"
   ]
  },
  {
   "cell_type": "markdown",
   "metadata": {},
   "source": [
    "# No.3"
   ]
  },
  {
   "cell_type": "markdown",
   "metadata": {},
   "source": [
    "<img src= 'Screen Shot 2022-06-21 at 18.41.29.png'>"
   ]
  },
  {
   "cell_type": "code",
   "execution_count": 21,
   "metadata": {},
   "outputs": [
    {
     "data": {
      "text/plain": [
       "array([[ 23,   7,  57],\n",
       "       [ 50,  12,  67],\n",
       "       [ 19, 109,  98]])"
      ]
     },
     "execution_count": 21,
     "metadata": {},
     "output_type": "execute_result"
    }
   ],
   "source": [
    "A.transpose()\n",
    "\n",
    "#atau\n",
    "\n",
    "A.T"
   ]
  },
  {
   "cell_type": "code",
   "execution_count": 23,
   "metadata": {},
   "outputs": [
    {
     "data": {
      "text/plain": [
       "131344.0000000002"
      ]
     },
     "execution_count": 23,
     "metadata": {},
     "output_type": "execute_result"
    }
   ],
   "source": [
    "det_A = np.linalg.det(A)\n",
    "det_A"
   ]
  },
  {
   "cell_type": "markdown",
   "metadata": {},
   "source": [
    "cari determinan buat matriks 2x2"
   ]
  },
  {
   "cell_type": "code",
   "execution_count": 26,
   "metadata": {},
   "outputs": [
    {
     "data": {
      "text/plain": [
       "-1.0000000000000002"
      ]
     },
     "execution_count": 26,
     "metadata": {},
     "output_type": "execute_result"
    }
   ],
   "source": [
    "a = np.array([\n",
    "    [2,1],\n",
    "    [3,1]\n",
    "])\n",
    "\n",
    "det_a = np.linalg.det(a)\n",
    "det_a"
   ]
  },
  {
   "cell_type": "code",
   "execution_count": 27,
   "metadata": {},
   "outputs": [
    {
     "data": {
      "text/plain": [
       "array([[-0.0466485 , -0.02761451,  0.03975819],\n",
       "       [ 0.04208034,  0.00891552, -0.01807467],\n",
       "       [-0.00163692,  0.0099662 , -0.00056341]])"
      ]
     },
     "execution_count": 27,
     "metadata": {},
     "output_type": "execute_result"
    }
   ],
   "source": [
    "np.linalg.inv(A)"
   ]
  },
  {
   "cell_type": "markdown",
   "metadata": {},
   "source": [
    "Cari determinan buat matriks 2x2"
   ]
  },
  {
   "cell_type": "markdown",
   "metadata": {},
   "source": [
    "<img src= 'Screen Shot 2022-06-21 at 19.12.58.png' weight=200 height=200>"
   ]
  },
  {
   "cell_type": "code",
   "execution_count": 28,
   "metadata": {},
   "outputs": [
    {
     "data": {
      "text/plain": [
       "array([[-1.,  1.],\n",
       "       [ 3., -2.]])"
      ]
     },
     "execution_count": 28,
     "metadata": {},
     "output_type": "execute_result"
    }
   ],
   "source": [
    "np.linalg.inv(a)"
   ]
  },
  {
   "cell_type": "markdown",
   "metadata": {},
   "source": [
    "### Matriks singular--> tidak ada inverse karena determinannya 0 (per baris merupakan kelipatannya, misalkan di bawah ini baris 2 merupakan kelipatan 3 baris 1)"
   ]
  },
  {
   "cell_type": "code",
   "execution_count": 29,
   "metadata": {},
   "outputs": [
    {
     "ename": "LinAlgError",
     "evalue": "Singular matrix",
     "output_type": "error",
     "traceback": [
      "\u001b[0;31m---------------------------------------------------------------------------\u001b[0m",
      "\u001b[0;31mLinAlgError\u001b[0m                               Traceback (most recent call last)",
      "\u001b[1;32m/Users/bandorogunarso/Documents/Hacktiv8/ftds/ftds-13/learning_journal/phase_0/week_2/day_2/ngc_4_matrix/ngc_4_matrix.ipynb Cell 20'\u001b[0m in \u001b[0;36m<cell line: 6>\u001b[0;34m()\u001b[0m\n\u001b[1;32m      <a href='vscode-notebook-cell:/Users/bandorogunarso/Documents/Hacktiv8/ftds/ftds-13/learning_journal/phase_0/week_2/day_2/ngc_4_matrix/ngc_4_matrix.ipynb#ch0000021?line=0'>1</a>\u001b[0m C \u001b[39m=\u001b[39m np\u001b[39m.\u001b[39marray([\n\u001b[1;32m      <a href='vscode-notebook-cell:/Users/bandorogunarso/Documents/Hacktiv8/ftds/ftds-13/learning_journal/phase_0/week_2/day_2/ngc_4_matrix/ngc_4_matrix.ipynb#ch0000021?line=1'>2</a>\u001b[0m     [\u001b[39m1\u001b[39m,\u001b[39m2\u001b[39m],\n\u001b[1;32m      <a href='vscode-notebook-cell:/Users/bandorogunarso/Documents/Hacktiv8/ftds/ftds-13/learning_journal/phase_0/week_2/day_2/ngc_4_matrix/ngc_4_matrix.ipynb#ch0000021?line=2'>3</a>\u001b[0m     [\u001b[39m3\u001b[39m,\u001b[39m6\u001b[39m]\n\u001b[1;32m      <a href='vscode-notebook-cell:/Users/bandorogunarso/Documents/Hacktiv8/ftds/ftds-13/learning_journal/phase_0/week_2/day_2/ngc_4_matrix/ngc_4_matrix.ipynb#ch0000021?line=3'>4</a>\u001b[0m ])\n\u001b[0;32m----> <a href='vscode-notebook-cell:/Users/bandorogunarso/Documents/Hacktiv8/ftds/ftds-13/learning_journal/phase_0/week_2/day_2/ngc_4_matrix/ngc_4_matrix.ipynb#ch0000021?line=5'>6</a>\u001b[0m np\u001b[39m.\u001b[39;49mlinalg\u001b[39m.\u001b[39;49minv(C)\n",
      "File \u001b[0;32m<__array_function__ internals>:5\u001b[0m, in \u001b[0;36minv\u001b[0;34m(*args, **kwargs)\u001b[0m\n",
      "File \u001b[0;32m~/opt/anaconda3/lib/python3.9/site-packages/numpy/linalg/linalg.py:545\u001b[0m, in \u001b[0;36minv\u001b[0;34m(a)\u001b[0m\n\u001b[1;32m    543\u001b[0m signature \u001b[39m=\u001b[39m \u001b[39m'\u001b[39m\u001b[39mD->D\u001b[39m\u001b[39m'\u001b[39m \u001b[39mif\u001b[39;00m isComplexType(t) \u001b[39melse\u001b[39;00m \u001b[39m'\u001b[39m\u001b[39md->d\u001b[39m\u001b[39m'\u001b[39m\n\u001b[1;32m    544\u001b[0m extobj \u001b[39m=\u001b[39m get_linalg_error_extobj(_raise_linalgerror_singular)\n\u001b[0;32m--> 545\u001b[0m ainv \u001b[39m=\u001b[39m _umath_linalg\u001b[39m.\u001b[39;49minv(a, signature\u001b[39m=\u001b[39;49msignature, extobj\u001b[39m=\u001b[39;49mextobj)\n\u001b[1;32m    546\u001b[0m \u001b[39mreturn\u001b[39;00m wrap(ainv\u001b[39m.\u001b[39mastype(result_t, copy\u001b[39m=\u001b[39m\u001b[39mFalse\u001b[39;00m))\n",
      "File \u001b[0;32m~/opt/anaconda3/lib/python3.9/site-packages/numpy/linalg/linalg.py:88\u001b[0m, in \u001b[0;36m_raise_linalgerror_singular\u001b[0;34m(err, flag)\u001b[0m\n\u001b[1;32m     87\u001b[0m \u001b[39mdef\u001b[39;00m \u001b[39m_raise_linalgerror_singular\u001b[39m(err, flag):\n\u001b[0;32m---> 88\u001b[0m     \u001b[39mraise\u001b[39;00m LinAlgError(\u001b[39m\"\u001b[39m\u001b[39mSingular matrix\u001b[39m\u001b[39m\"\u001b[39m)\n",
      "\u001b[0;31mLinAlgError\u001b[0m: Singular matrix"
     ]
    }
   ],
   "source": [
    "C = np.array([\n",
    "    [1,2],\n",
    "    [3,6]\n",
    "])\n",
    "\n",
    "np.linalg.inv(C)"
   ]
  }
 ],
 "metadata": {
  "kernelspec": {
   "display_name": "Python 3.9.12 ('base')",
   "language": "python",
   "name": "python3"
  },
  "language_info": {
   "codemirror_mode": {
    "name": "ipython",
    "version": 3
   },
   "file_extension": ".py",
   "mimetype": "text/x-python",
   "name": "python",
   "nbconvert_exporter": "python",
   "pygments_lexer": "ipython3",
   "version": "3.9.12"
  },
  "orig_nbformat": 4,
  "vscode": {
   "interpreter": {
    "hash": "0c7e7f3bbf4a7f7f6f73f34a687fa8ee0680a62a46cef3641df3daab4f224d43"
   }
  }
 },
 "nbformat": 4,
 "nbformat_minor": 2
}

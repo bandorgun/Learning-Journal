{
  "nbformat": 4,
  "nbformat_minor": 0,
  "metadata": {
    "colab": {
      "name": "Eigen Decomposition.ipynb",
      "provenance": [],
      "collapsed_sections": []
    },
    "kernelspec": {
      "name": "python3",
      "display_name": "Python 3"
    },
    "language_info": {
      "name": "python"
    }
  },
  "cells": [
    {
      "cell_type": "code",
      "execution_count": null,
      "metadata": {
        "id": "pRcydHfv2cyg"
      },
      "outputs": [],
      "source": [
        "import numpy as np\n",
        "import matplotlib.pyplot as plt"
      ]
    },
    {
      "cell_type": "code",
      "source": [
        "def plot_vector2d(vector2d, origin=[0, 0], **options):\n",
        "    return plt.arrow(origin[0], origin[1], vector2d[0], vector2d[1],\n",
        "              head_width=0.2, head_length=0.3, length_includes_head=True,\n",
        "              **options)"
      ],
      "metadata": {
        "id": "4y3pmt-bAErv"
      },
      "execution_count": null,
      "outputs": []
    },
    {
      "cell_type": "markdown",
      "source": [
        "## Matrix Transformation"
      ],
      "metadata": {
        "id": "nRi7FsPOmFPe"
      }
    },
    {
      "cell_type": "code",
      "source": [
        "transformer = np.array([[0, -1],\n",
        "                        [-1, 0]])"
      ],
      "metadata": {
        "id": "7o9a5TYOAwzG"
      },
      "execution_count": null,
      "outputs": []
    },
    {
      "cell_type": "code",
      "source": [
        "np.linalg.norm(v)"
      ],
      "metadata": {
        "colab": {
          "base_uri": "https://localhost:8080/"
        },
        "id": "ir7nyyNRBRYe",
        "outputId": "3e0b9566-a0bd-4d18-951c-f09587948506"
      },
      "execution_count": null,
      "outputs": [
        {
          "output_type": "execute_result",
          "data": {
            "text/plain": [
              "6.4031242374328485"
            ]
          },
          "metadata": {},
          "execution_count": 13
        }
      ]
    },
    {
      "cell_type": "code",
      "source": [
        "v = np.array([4, 5])\n",
        "\n",
        "plot_vector2d(v, color='r')\n",
        "plot_vector2d((transformer @ v), color='g')\n",
        "\n",
        "plt.axis([-10, 10, -10, 10])\n",
        "plt.axvline(0,0)\n",
        "plt.axhline(0,0)\n",
        "plt.grid()"
      ],
      "metadata": {
        "colab": {
          "base_uri": "https://localhost:8080/",
          "height": 269
        },
        "id": "lS-eozkDAGkh",
        "outputId": "f7a0f4f7-ee97-4486-d075-0474472a07be"
      },
      "execution_count": null,
      "outputs": [
        {
          "output_type": "display_data",
          "data": {
            "text/plain": [
              "<Figure size 432x288 with 1 Axes>"
            ],
            "image/png": "[encoded data removed]"
          },
          "metadata": {
            "needs_background": "light"
          }
        }
      ]
    },
    {
      "cell_type": "code",
      "source": [
        "v = np.array([4, 5])\n",
        "\n",
        "plot_vector2d(v, color='r')\n",
        "plot_vector2d(-1.5*v, color='g')\n",
        "# plot_vector2d((transformer @ v), color='g')\n",
        "\n",
        "plt.axis([-10, 10, -10, 10])\n",
        "plt.axvline(0,0)\n",
        "plt.axhline(0,0)\n",
        "plt.grid()"
      ],
      "metadata": {
        "colab": {
          "base_uri": "https://localhost:8080/",
          "height": 269
        },
        "id": "3gdvV9q1EPeH",
        "outputId": "8e8c1959-0e70-4685-997a-0580c05d85ca"
      },
      "execution_count": null,
      "outputs": [
        {
          "output_type": "display_data",
          "data": {
            "text/plain": [
              "<Figure size 432x288 with 1 Axes>"
            ],
            "image/png": "[encoded data removed]"
          },
          "metadata": {
            "needs_background": "light"
          }
        }
      ]
    },
    {
      "cell_type": "markdown",
      "source": [
        "## Matrix Decomposition"
      ],
      "metadata": {
        "id": "ft-7oK13mKnN"
      }
    },
    {
      "cell_type": "code",
      "source": [
        "A = np.array([[1, 2],\n",
        "              [2, 4]])\n",
        "A"
      ],
      "metadata": {
        "colab": {
          "base_uri": "https://localhost:8080/"
        },
        "id": "8OesQr58NDTE",
        "outputId": "39b5af7c-8a73-4313-9337-fd0669e53d65"
      },
      "execution_count": null,
      "outputs": [
        {
          "output_type": "execute_result",
          "data": {
            "text/plain": [
              "array([[1, 2],\n",
              "       [2, 4]])"
            ]
          },
          "metadata": {},
          "execution_count": 21
        }
      ]
    },
    {
      "cell_type": "code",
      "source": [
        "eig_value, eig_vector = np.linalg.eig(A)"
      ],
      "metadata": {
        "id": "CQbRrXRoNMbF"
      },
      "execution_count": null,
      "outputs": []
    },
    {
      "cell_type": "code",
      "source": [
        "eig_value"
      ],
      "metadata": {
        "colab": {
          "base_uri": "https://localhost:8080/"
        },
        "id": "_xeiivIJNcg5",
        "outputId": "afb6dfe6-9524-4c81-ba9d-191298ecde58"
      },
      "execution_count": null,
      "outputs": [
        {
          "output_type": "execute_result",
          "data": {
            "text/plain": [
              "array([0., 5.])"
            ]
          },
          "metadata": {},
          "execution_count": 24
        }
      ]
    },
    {
      "cell_type": "code",
      "source": [
        "eig_vector"
      ],
      "metadata": {
        "colab": {
          "base_uri": "https://localhost:8080/"
        },
        "id": "ZmQARLogNdbQ",
        "outputId": "2966ae66-b4ac-40d7-dc15-bca0effee87a"
      },
      "execution_count": null,
      "outputs": [
        {
          "output_type": "execute_result",
          "data": {
            "text/plain": [
              "array([[-0.89442719, -0.4472136 ],\n",
              "       [ 0.4472136 , -0.89442719]])"
            ]
          },
          "metadata": {},
          "execution_count": 25
        }
      ]
    },
    {
      "cell_type": "code",
      "source": [
        "unit = np.array([1/np.sqrt(5), 2/np.sqrt(5)])\n",
        "unit"
      ],
      "metadata": {
        "colab": {
          "base_uri": "https://localhost:8080/"
        },
        "id": "yio8xxNSOTlP",
        "outputId": "dbc9776a-29b4-4529-9197-f338336fc060"
      },
      "execution_count": null,
      "outputs": [
        {
          "output_type": "execute_result",
          "data": {
            "text/plain": [
              "array([0.4472136 , 0.89442719])"
            ]
          },
          "metadata": {},
          "execution_count": 27
        }
      ]
    },
    {
      "cell_type": "code",
      "source": [
        "# vector\n",
        "v = np.array([1, 2])\n",
        "v"
      ],
      "metadata": {
        "colab": {
          "base_uri": "https://localhost:8080/"
        },
        "id": "5u0AJDGfO0gB",
        "outputId": "edc31093-fbf0-4e8e-e43e-be826c6bb763"
      },
      "execution_count": null,
      "outputs": [
        {
          "output_type": "execute_result",
          "data": {
            "text/plain": [
              "array([1, 2])"
            ]
          },
          "metadata": {},
          "execution_count": 31
        }
      ]
    },
    {
      "cell_type": "code",
      "source": [
        "A"
      ],
      "metadata": {
        "colab": {
          "base_uri": "https://localhost:8080/"
        },
        "id": "PxonmfCHPfoO",
        "outputId": "2e97ea8a-e41e-49ce-cc7f-84e31234c2ee"
      },
      "execution_count": null,
      "outputs": [
        {
          "output_type": "execute_result",
          "data": {
            "text/plain": [
              "array([[1, 2],\n",
              "       [2, 4]])"
            ]
          },
          "metadata": {},
          "execution_count": 32
        }
      ]
    },
    {
      "cell_type": "code",
      "source": [
        "# perkalian dot matrix dengan vector -> hasil vector\n",
        "A @ v"
      ],
      "metadata": {
        "colab": {
          "base_uri": "https://localhost:8080/"
        },
        "id": "Ow70ZWufPhCK",
        "outputId": "c99890ad-c98f-4f11-9d60-e3e74baae7ef"
      },
      "execution_count": null,
      "outputs": [
        {
          "output_type": "execute_result",
          "data": {
            "text/plain": [
              "array([ 5, 10])"
            ]
          },
          "metadata": {},
          "execution_count": 34
        }
      ]
    },
    {
      "cell_type": "code",
      "source": [
        "# matrix\n",
        "V = np.array([[1],\n",
        "              [2]])\n",
        "V"
      ],
      "metadata": {
        "colab": {
          "base_uri": "https://localhost:8080/"
        },
        "id": "43GWy5hoPsLt",
        "outputId": "cc338dd6-5b28-4bbe-a322-a532e953b4fd"
      },
      "execution_count": null,
      "outputs": [
        {
          "output_type": "execute_result",
          "data": {
            "text/plain": [
              "array([[1],\n",
              "       [2]])"
            ]
          },
          "metadata": {},
          "execution_count": 35
        }
      ]
    },
    {
      "cell_type": "code",
      "source": [
        "# perkalian matrix dengan matrix -> hasil matrix\n",
        "A @ V"
      ],
      "metadata": {
        "colab": {
          "base_uri": "https://localhost:8080/"
        },
        "id": "ce4niI4BPxlL",
        "outputId": "0812e2b2-79df-4b74-8a5b-8934a232d04c"
      },
      "execution_count": null,
      "outputs": [
        {
          "output_type": "execute_result",
          "data": {
            "text/plain": [
              "array([[ 5],\n",
              "       [10]])"
            ]
          },
          "metadata": {},
          "execution_count": 37
        }
      ]
    },
    {
      "cell_type": "code",
      "source": [
        "# eigen reconstruction\n",
        "eig_value, eig_vector = np.linalg.eig(A)"
      ],
      "metadata": {
        "id": "JSI3KsjEQ8M0"
      },
      "execution_count": null,
      "outputs": []
    },
    {
      "cell_type": "code",
      "source": [
        "eig_value"
      ],
      "metadata": {
        "colab": {
          "base_uri": "https://localhost:8080/"
        },
        "id": "mL2ZQlg1Q_2Z",
        "outputId": "5d78c760-d84c-44ff-dd7f-e851541ca175"
      },
      "execution_count": null,
      "outputs": [
        {
          "output_type": "execute_result",
          "data": {
            "text/plain": [
              "array([0., 5.])"
            ]
          },
          "metadata": {},
          "execution_count": 39
        }
      ]
    },
    {
      "cell_type": "code",
      "source": [
        "eig_vector"
      ],
      "metadata": {
        "colab": {
          "base_uri": "https://localhost:8080/"
        },
        "id": "NZy44h9GRBAJ",
        "outputId": "a6127efd-e8a1-45d4-baec-7066231f4587"
      },
      "execution_count": null,
      "outputs": [
        {
          "output_type": "execute_result",
          "data": {
            "text/plain": [
              "array([[-0.89442719, -0.4472136 ],\n",
              "       [ 0.4472136 , -0.89442719]])"
            ]
          },
          "metadata": {},
          "execution_count": 40
        }
      ]
    },
    {
      "cell_type": "markdown",
      "source": [
        "## Matrix Reconstruction"
      ],
      "metadata": {
        "id": "2YJ9S5B7mO_A"
      }
    },
    {
      "cell_type": "code",
      "source": [
        "np.diag(eig_value)"
      ],
      "metadata": {
        "colab": {
          "base_uri": "https://localhost:8080/"
        },
        "id": "ZzyN7L5eRKd8",
        "outputId": "7b50f661-5cae-40c4-f125-aa6c4d66d652"
      },
      "execution_count": null,
      "outputs": [
        {
          "output_type": "execute_result",
          "data": {
            "text/plain": [
              "array([[0., 0.],\n",
              "       [0., 5.]])"
            ]
          },
          "metadata": {},
          "execution_count": 41
        }
      ]
    },
    {
      "cell_type": "code",
      "source": [
        "reconstruct = eig_vector @ np.diag(eig_value) @ np.linalg.inv(eig_vector)\n",
        "reconstruct"
      ],
      "metadata": {
        "colab": {
          "base_uri": "https://localhost:8080/"
        },
        "id": "WhDkUqojRDAk",
        "outputId": "eaefc8f6-03a5-495b-e8f1-240f680009a7"
      },
      "execution_count": null,
      "outputs": [
        {
          "output_type": "execute_result",
          "data": {
            "text/plain": [
              "array([[1., 2.],\n",
              "       [2., 4.]])"
            ]
          },
          "metadata": {},
          "execution_count": 43
        }
      ]
    },
    {
      "cell_type": "code",
      "source": [
        "A"
      ],
      "metadata": {
        "colab": {
          "base_uri": "https://localhost:8080/"
        },
        "id": "cMXAMSLBRWHZ",
        "outputId": "b61c2e44-6517-4342-ccec-ec7078e0b011"
      },
      "execution_count": null,
      "outputs": [
        {
          "output_type": "execute_result",
          "data": {
            "text/plain": [
              "array([[1, 2],\n",
              "       [2, 4]])"
            ]
          },
          "metadata": {},
          "execution_count": 44
        }
      ]
    },
    {
      "cell_type": "markdown",
      "source": [
        "## Contoh Kasus"
      ],
      "metadata": {
        "id": "OFpYjWfKUCij"
      }
    },
    {
      "cell_type": "code",
      "source": [
        "C = np.array([[0, 1/4, 0, 1/2, 0, 0],\n",
        "              [0, 0, 0, 0, 0, 0],\n",
        "              [1/2, 1/4, 0, 0, 0, 1/2],\n",
        "              [1/2, 1/4, 0, 0, 0, 1/2],\n",
        "              [0, 1/4, 0, 1/2, 0, 0],\n",
        "              [0, 0, 0, 0, 0, 0]])\n",
        "C"
      ],
      "metadata": {
        "colab": {
          "base_uri": "https://localhost:8080/"
        },
        "id": "LKgy0l9lUEst",
        "outputId": "09a75381-bc16-4c9c-8501-ec2f6bde65fe"
      },
      "execution_count": null,
      "outputs": [
        {
          "output_type": "execute_result",
          "data": {
            "text/plain": [
              "array([[0.  , 0.25, 0.  , 0.5 , 0.  , 0.  ],\n",
              "       [0.  , 0.  , 0.  , 0.  , 0.  , 0.  ],\n",
              "       [0.5 , 0.25, 0.  , 0.  , 0.  , 0.5 ],\n",
              "       [0.5 , 0.25, 0.  , 0.  , 0.  , 0.5 ],\n",
              "       [0.  , 0.25, 0.  , 0.5 , 0.  , 0.  ],\n",
              "       [0.  , 0.  , 0.  , 0.  , 0.  , 0.  ]])"
            ]
          },
          "metadata": {},
          "execution_count": 45
        }
      ]
    },
    {
      "cell_type": "code",
      "source": [
        "eig_val, eig_vec = np.linalg.eig(C)"
      ],
      "metadata": {
        "id": "DFDUPVobWl2K"
      },
      "execution_count": null,
      "outputs": []
    },
    {
      "cell_type": "code",
      "source": [
        "eig_val"
      ],
      "metadata": {
        "colab": {
          "base_uri": "https://localhost:8080/"
        },
        "id": "ScdFVsFqWqmD",
        "outputId": "6311d15a-9628-4a94-b5a0-1f8812b42499"
      },
      "execution_count": null,
      "outputs": [
        {
          "output_type": "execute_result",
          "data": {
            "text/plain": [
              "array([ 0. ,  0. ,  0.5, -0.5,  0. ,  0. ])"
            ]
          },
          "metadata": {},
          "execution_count": 47
        }
      ]
    },
    {
      "cell_type": "code",
      "source": [
        "eig_vec"
      ],
      "metadata": {
        "colab": {
          "base_uri": "https://localhost:8080/"
        },
        "id": "jeO-oZZ6Wrd1",
        "outputId": "77b59559-98b8-4227-c792-c8018ca76ace"
      },
      "execution_count": null,
      "outputs": [
        {
          "output_type": "execute_result",
          "data": {
            "text/plain": [
              "array([[ 0.00000000e+000,  0.00000000e+000,  5.00000000e-001,\n",
              "        -5.00000000e-001, -2.16623325e-276, -2.34960985e-276],\n",
              "       [ 0.00000000e+000,  0.00000000e+000,  0.00000000e+000,\n",
              "         0.00000000e+000,  4.33246650e-276,  0.00000000e+000],\n",
              "       [ 0.00000000e+000,  1.00000000e+000,  5.00000000e-001,\n",
              "         5.00000000e-001,  6.00000000e-001,  2.16930458e-001],\n",
              "       [ 0.00000000e+000,  0.00000000e+000,  5.00000000e-001,\n",
              "         5.00000000e-001, -2.16623325e-276,  1.10526918e-291],\n",
              "       [ 1.00000000e+000,  0.00000000e+000,  5.00000000e-001,\n",
              "        -5.00000000e-001, -8.00000000e-001, -9.76187060e-001],\n",
              "       [ 0.00000000e+000,  0.00000000e+000,  0.00000000e+000,\n",
              "         0.00000000e+000,  0.00000000e+000,  2.34960985e-276]])"
            ]
          },
          "metadata": {},
          "execution_count": 48
        }
      ]
    },
    {
      "cell_type": "code",
      "source": [
        "# cari posisi eigen value terbesar\n",
        "np.argmax(eig_val)"
      ],
      "metadata": {
        "colab": {
          "base_uri": "https://localhost:8080/"
        },
        "id": "5_BHEsR5W0JM",
        "outputId": "1cef1ea1-5308-41a7-dfce-1b84726634d5"
      },
      "execution_count": null,
      "outputs": [
        {
          "output_type": "execute_result",
          "data": {
            "text/plain": [
              "2"
            ]
          },
          "metadata": {},
          "execution_count": 49
        }
      ]
    },
    {
      "cell_type": "code",
      "source": [
        "# lihat pasangan baris vektor dari posisi ke-2\n",
        "eig_vec[2]"
      ],
      "metadata": {
        "colab": {
          "base_uri": "https://localhost:8080/"
        },
        "id": "mHJNv9TOW-kk",
        "outputId": "f9655aa0-495f-49db-9ab4-f4fd1ec8e0bd"
      },
      "execution_count": null,
      "outputs": [
        {
          "output_type": "execute_result",
          "data": {
            "text/plain": [
              "array([0.        , 1.        , 0.5       , 0.5       , 0.6       ,\n",
              "       0.21693046])"
            ]
          },
          "metadata": {},
          "execution_count": 52
        }
      ]
    },
    {
      "cell_type": "code",
      "source": [
        "# posisi value terbesar di eigen vector tersebut\n",
        "np.argmax(eig_vec[2])"
      ],
      "metadata": {
        "colab": {
          "base_uri": "https://localhost:8080/"
        },
        "id": "PMnXvAQ9XfXC",
        "outputId": "c0005d8d-51cb-4197-a269-f3a40bccccc9"
      },
      "execution_count": null,
      "outputs": [
        {
          "output_type": "execute_result",
          "data": {
            "text/plain": [
              "1"
            ]
          },
          "metadata": {},
          "execution_count": 53
        }
      ]
    },
    {
      "cell_type": "markdown",
      "source": [
        "Agen yang memiliki nilai kepentingan terbesar terletak pada posisi ke-1 yaitu agen B"
      ],
      "metadata": {
        "id": "T0rxg4p7XxEq"
      }
    }
  ]
}
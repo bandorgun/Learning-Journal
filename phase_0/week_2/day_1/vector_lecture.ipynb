{
  "cells": [
    {
      "cell_type": "code",
      "execution_count": 2,
      "metadata": {
        "id": "AF3BR7edz8hi"
      },
      "outputs": [],
      "source": [
        "import numpy as np\n",
        "import matplotlib.pyplot as plt"
      ]
    },
    {
      "cell_type": "code",
      "execution_count": 20,
      "metadata": {
        "id": "m3H7yoN889GJ"
      },
      "outputs": [],
      "source": [
        "def plot_vector2d(vector2d, origin=[0, 0], **options):\n",
        "    return plt.arrow(origin[0], origin[1], vector2d[0], vector2d[1],\n",
        "              head_width=0.2, head_length=0.3, length_includes_head=True,\n",
        "              **options)"
      ]
    },
    {
      "cell_type": "code",
      "execution_count": 24,
      "metadata": {
        "colab": {
          "base_uri": "https://localhost:8080/"
        },
        "id": "GxjrYtlo0G47",
        "outputId": "ce5e883d-9126-4fc0-f057-ec7570fc6a8a"
      },
      "outputs": [
        {
          "data": {
            "text/plain": [
              "array([2, 7, 5])"
            ]
          },
          "execution_count": 24,
          "metadata": {},
          "output_type": "execute_result"
        }
      ],
      "source": [
        "a = np.array([1, 5, 2])\n",
        "b = np.array([1, 2, 3])\n",
        "\n",
        "a + b"
      ]
    },
    {
      "cell_type": "code",
      "execution_count": null,
      "metadata": {
        "colab": {
          "base_uri": "https://localhost:8080/"
        },
        "id": "hNCSiK6S0G2k",
        "outputId": "fcc00745-35e8-4064-f21f-46456c594a18"
      },
      "outputs": [
        {
          "data": {
            "text/plain": [
              "[1, 5, 2, 1, 2, 3]"
            ]
          },
          "execution_count": 7,
          "metadata": {},
          "output_type": "execute_result"
        }
      ],
      "source": [
        "a = [1, 5, 2]\n",
        "b = [1, 2, 3]\n",
        "\n",
        "a + b"
      ]
    },
    {
      "cell_type": "code",
      "execution_count": null,
      "metadata": {
        "colab": {
          "base_uri": "https://localhost:8080/"
        },
        "id": "I8sVWXZZ0Gz4",
        "outputId": "fac4c64c-c33f-4c1b-f734-08351de897a5"
      },
      "outputs": [
        {
          "data": {
            "text/plain": [
              "array([5, 2])"
            ]
          },
          "execution_count": 12,
          "metadata": {},
          "output_type": "execute_result"
        }
      ],
      "source": [
        "a[1:]"
      ]
    },
    {
      "cell_type": "markdown",
      "metadata": {
        "id": "il2XKwif70a_"
      },
      "source": [
        "## Vektor Norm"
      ]
    },
    {
      "cell_type": "code",
      "execution_count": 4,
      "metadata": {
        "id": "Jg6Z0dyH8BZQ"
      },
      "outputs": [],
      "source": [
        "v = np.array([4, 3])"
      ]
    },
    {
      "cell_type": "code",
      "execution_count": 5,
      "metadata": {
        "colab": {
          "base_uri": "https://localhost:8080/"
        },
        "id": "ry8B7OIx0GxT",
        "outputId": "4e798b39-c696-4349-9973-ae1213057537"
      },
      "outputs": [
        {
          "data": {
            "text/plain": [
              "5.0"
            ]
          },
          "execution_count": 5,
          "metadata": {},
          "output_type": "execute_result"
        }
      ],
      "source": [
        "np.linalg.norm(v)"
      ]
    },
    {
      "cell_type": "code",
      "execution_count": 23,
      "metadata": {
        "colab": {
          "base_uri": "https://localhost:8080/",
          "height": 269
        },
        "id": "gV1C1dni0Guc",
        "outputId": "588f3f02-e6b3-4044-c246-2a5347b929ac"
      },
      "outputs": [
        {
          "data": {
            "image/png": "[encoded data removed]",
            "text/plain": [
              "<Figure size 432x288 with 1 Axes>"
            ]
          },
          "metadata": {
            "needs_background": "light"
          },
          "output_type": "display_data"
        }
      ],
      "source": [
        "v = np.array([4, 3])\n",
        "\n",
        "plot_vector2d(v, color='r')\n",
        "\n",
        "plt.axis([0,5,0,5]) # rentang axis sumbu x dan y\n",
        "plt.grid()\n",
        "plt.show()\n",
        "\n",
        "#kok bisa kepisah gini function nya?\n"
      ]
    },
    {
      "cell_type": "code",
      "execution_count": null,
      "metadata": {
        "colab": {
          "base_uri": "https://localhost:8080/"
        },
        "id": "J-vNUjtC-Cfd",
        "outputId": "cf31a046-23e8-4397-c16c-89c63caecf2f"
      },
      "outputs": [
        {
          "data": {
            "text/plain": [
              "5.0"
            ]
          },
          "execution_count": 21,
          "metadata": {},
          "output_type": "execute_result"
        }
      ],
      "source": [
        "np.linalg.norm(v)"
      ]
    },
    {
      "cell_type": "code",
      "execution_count": null,
      "metadata": {
        "colab": {
          "base_uri": "https://localhost:8080/"
        },
        "id": "Vgl99rHi0GsE",
        "outputId": "340e7cf7-3a77-41b2-aa77-3077f59776c0"
      },
      "outputs": [
        {
          "data": {
            "text/plain": [
              "1.0"
            ]
          },
          "execution_count": 23,
          "metadata": {},
          "output_type": "execute_result"
        }
      ],
      "source": [
        "# vektor unit\n",
        "u = np.array([4/5, 3/5])\n",
        "\n",
        "np.linalg.norm(u)"
      ]
    },
    {
      "cell_type": "code",
      "execution_count": null,
      "metadata": {
        "colab": {
          "base_uri": "https://localhost:8080/"
        },
        "id": "ApnGmC_l0GlN",
        "outputId": "a53fac0d-7b7f-42a6-e842-135d59c0b697"
      },
      "outputs": [
        {
          "data": {
            "text/plain": [
              "1.0"
            ]
          },
          "execution_count": 25,
          "metadata": {},
          "output_type": "execute_result"
        }
      ],
      "source": [
        "u = np.array([1, 2, 3])\n",
        "\n",
        "np.linalg.norm(u/np.linalg.norm(u))"
      ]
    },
    {
      "cell_type": "markdown",
      "metadata": {
        "id": "gg7PuJbC_gOd"
      },
      "source": [
        "## Operasi Matematika"
      ]
    },
    {
      "cell_type": "markdown",
      "metadata": {
        "id": "NgvuB37Q_-E8"
      },
      "source": [
        "### penjumlahan"
      ]
    },
    {
      "cell_type": "code",
      "execution_count": 25,
      "metadata": {
        "colab": {
          "base_uri": "https://localhost:8080/"
        },
        "id": "RwUaUvW4_enB",
        "outputId": "36903037-4cbc-46af-f029-f36fcf0f1e6a"
      },
      "outputs": [
        {
          "name": "stdout",
          "output_type": "stream",
          "text": [
            "[1 5 2] [1 2 3]\n"
          ]
        }
      ],
      "source": [
        "print(a, b)"
      ]
    },
    {
      "cell_type": "code",
      "execution_count": null,
      "metadata": {
        "colab": {
          "base_uri": "https://localhost:8080/"
        },
        "id": "AaU8Z6yt0GiJ",
        "outputId": "5b88afda-7769-434c-a704-c4148f7268c2"
      },
      "outputs": [
        {
          "data": {
            "text/plain": [
              "array([11, 15, 12])"
            ]
          },
          "execution_count": 27,
          "metadata": {},
          "output_type": "execute_result"
        }
      ],
      "source": [
        "# penjumlahan vektor terhadap skalar\n",
        "a + 10"
      ]
    },
    {
      "cell_type": "code",
      "execution_count": null,
      "metadata": {
        "colab": {
          "base_uri": "https://localhost:8080/"
        },
        "id": "OEMt1xyFAdmD",
        "outputId": "ec223bb7-f3ac-4b33-84ae-59a8ff6d843a"
      },
      "outputs": [
        {
          "data": {
            "text/plain": [
              "array([2, 7, 5])"
            ]
          },
          "execution_count": 28,
          "metadata": {},
          "output_type": "execute_result"
        }
      ],
      "source": [
        "a + b"
      ]
    },
    {
      "cell_type": "code",
      "execution_count": null,
      "metadata": {
        "colab": {
          "base_uri": "https://localhost:8080/",
          "height": 200
        },
        "id": "oF7VZLo10Gfb",
        "outputId": "9dcfa89d-385c-4c90-dbf0-173d00265ded"
      },
      "outputs": [
        {
          "ename": "ValueError",
          "evalue": "ignored",
          "output_type": "error",
          "traceback": [
            "\u001b[0;31m---------------------------------------------------------------------------\u001b[0m",
            "\u001b[0;31mValueError\u001b[0m                                Traceback (most recent call last)",
            "\u001b[0;32m<ipython-input-31-ca10ae308244>\u001b[0m in \u001b[0;36m<module>\u001b[0;34m()\u001b[0m\n\u001b[1;32m      1\u001b[0m \u001b[0mu\u001b[0m \u001b[0;34m=\u001b[0m \u001b[0mnp\u001b[0m\u001b[0;34m.\u001b[0m\u001b[0marray\u001b[0m\u001b[0;34m(\u001b[0m\u001b[0;34m[\u001b[0m\u001b[0;36m1\u001b[0m\u001b[0;34m,\u001b[0m \u001b[0;36m2\u001b[0m\u001b[0;34m]\u001b[0m\u001b[0;34m)\u001b[0m\u001b[0;34m\u001b[0m\u001b[0;34m\u001b[0m\u001b[0m\n\u001b[1;32m      2\u001b[0m \u001b[0;34m\u001b[0m\u001b[0m\n\u001b[0;32m----> 3\u001b[0;31m \u001b[0ma\u001b[0m \u001b[0;34m+\u001b[0m \u001b[0mu\u001b[0m\u001b[0;34m\u001b[0m\u001b[0;34m\u001b[0m\u001b[0m\n\u001b[0m",
            "\u001b[0;31mValueError\u001b[0m: operands could not be broadcast together with shapes (3,) (2,) "
          ]
        }
      ],
      "source": [
        "u = np.array([1, 2])\n",
        "\n",
        "# a + u\n",
        "# return error"
      ]
    },
    {
      "cell_type": "code",
      "execution_count": 27,
      "metadata": {
        "colab": {
          "base_uri": "https://localhost:8080/",
          "height": 269
        },
        "id": "TlPN8HemA2u1",
        "outputId": "4b1fc918-4659-4fab-fd7e-2b29dddf30a8"
      },
      "outputs": [
        {
          "data": {
            "image/png": "[encoded data removed]",
            "text/plain": [
              "<Figure size 432x288 with 1 Axes>"
            ]
          },
          "metadata": {
            "needs_background": "light"
          },
          "output_type": "display_data"
        }
      ],
      "source": [
        "v = np.array([3, 5])\n",
        "u = np.array([4, 1])\n",
        "\n",
        "plot_vector2d(v, color='r')\n",
        "plot_vector2d(-u, origin = v, color='g')\n",
        "plot_vector2d(v-u, color='b')\n",
        "\n",
        "plt.axis([-10,10,-10,10]) # rentang axis sumbu x dan y\n",
        "plt.axvline(0,0) # garis vertikal\n",
        "plt.axhline(0,0) # garis horizontal\n",
        "plt.grid()\n",
        "plt.show()\n"
      ]
    },
    {
      "cell_type": "code",
      "execution_count": null,
      "metadata": {
        "colab": {
          "base_uri": "https://localhost:8080/"
        },
        "id": "W0cUeCJsBQ1N",
        "outputId": "aeec6810-2b4a-42f5-fe0c-9e53fc1774b5"
      },
      "outputs": [
        {
          "data": {
            "text/plain": [
              "array([7, 6])"
            ]
          },
          "execution_count": 34,
          "metadata": {},
          "output_type": "execute_result"
        }
      ],
      "source": [
        "v + u"
      ]
    },
    {
      "cell_type": "markdown",
      "metadata": {
        "id": "5HvFMI-eCJKk"
      },
      "source": [
        "### pengurangan"
      ]
    },
    {
      "cell_type": "code",
      "execution_count": null,
      "metadata": {
        "colab": {
          "base_uri": "https://localhost:8080/"
        },
        "id": "Nq8nH8lhCQ5e",
        "outputId": "d8771282-ba82-4358-d33c-3af2f083276f"
      },
      "outputs": [
        {
          "name": "stdout",
          "output_type": "stream",
          "text": [
            "[1 5 2] [1 2 3]\n"
          ]
        }
      ],
      "source": [
        "print(a, b)"
      ]
    },
    {
      "cell_type": "code",
      "execution_count": null,
      "metadata": {
        "colab": {
          "base_uri": "https://localhost:8080/"
        },
        "id": "VUfZqiwK0Gch",
        "outputId": "0678dab8-cfd3-44d7-a5ed-f54bcfa6f418"
      },
      "outputs": [
        {
          "data": {
            "text/plain": [
              "array([-4,  0, -3])"
            ]
          },
          "execution_count": 40,
          "metadata": {},
          "output_type": "execute_result"
        }
      ],
      "source": [
        "# vektor terhadap skalar\n",
        "a - 5"
      ]
    },
    {
      "cell_type": "code",
      "execution_count": null,
      "metadata": {
        "colab": {
          "base_uri": "https://localhost:8080/"
        },
        "id": "rOoQ66o20GZq",
        "outputId": "bb23d3fc-7847-4d9a-a0a2-563810e9895b"
      },
      "outputs": [
        {
          "data": {
            "text/plain": [
              "array([ 0,  3, -1])"
            ]
          },
          "execution_count": 42,
          "metadata": {},
          "output_type": "execute_result"
        }
      ],
      "source": [
        "# vektor terhadap vektor\n",
        "a - b"
      ]
    },
    {
      "cell_type": "markdown",
      "metadata": {
        "id": "QXUaXgkdCfMp"
      },
      "source": [
        "### pembagian"
      ]
    },
    {
      "cell_type": "code",
      "execution_count": null,
      "metadata": {
        "colab": {
          "base_uri": "https://localhost:8080/"
        },
        "id": "A10s4Kb7Cd69",
        "outputId": "13435134-13d6-4818-b723-1095dfa00403"
      },
      "outputs": [
        {
          "name": "stdout",
          "output_type": "stream",
          "text": [
            "[1 5 2] [1 2 3]\n"
          ]
        }
      ],
      "source": [
        "# vektor terhadap skalar\n",
        "print(a, b)"
      ]
    },
    {
      "cell_type": "code",
      "execution_count": null,
      "metadata": {
        "colab": {
          "base_uri": "https://localhost:8080/"
        },
        "id": "dNMrm1elzwLX",
        "outputId": "2fc2d72d-297e-4593-827f-3b940c37ffa0"
      },
      "outputs": [
        {
          "data": {
            "text/plain": [
              "array([20.,  4., 10.])"
            ]
          },
          "execution_count": 44,
          "metadata": {},
          "output_type": "execute_result"
        }
      ],
      "source": [
        "# vektor terhadap skalar\n",
        "20 / a"
      ]
    },
    {
      "cell_type": "code",
      "execution_count": null,
      "metadata": {
        "colab": {
          "base_uri": "https://localhost:8080/"
        },
        "id": "NjJPd8HO0AFv",
        "outputId": "7964bfbc-7882-4252-a3e0-5d3e88249ec6"
      },
      "outputs": [
        {
          "data": {
            "text/plain": [
              "array([1.        , 2.5       , 0.66666667])"
            ]
          },
          "execution_count": 47,
          "metadata": {},
          "output_type": "execute_result"
        }
      ],
      "source": [
        "# vektor terhadap vektor\n",
        "a / b"
      ]
    },
    {
      "cell_type": "markdown",
      "metadata": {
        "id": "G1iM40EwENkK"
      },
      "source": [
        "### perkalian\n",
        "- vektor terhadap scalar (scaling)\n",
        "- vektor tekhadap vector (element-wise multiplication)\n",
        "- dot product"
      ]
    },
    {
      "cell_type": "code",
      "execution_count": null,
      "metadata": {
        "colab": {
          "base_uri": "https://localhost:8080/"
        },
        "id": "a-V5N8RxENzW",
        "outputId": "e669be88-2f58-4361-c480-a0cea22aaf44"
      },
      "outputs": [
        {
          "name": "stdout",
          "output_type": "stream",
          "text": [
            "[1 5 2]\n"
          ]
        },
        {
          "data": {
            "text/plain": [
              "array([10, 50, 20])"
            ]
          },
          "execution_count": 50,
          "metadata": {},
          "output_type": "execute_result"
        }
      ],
      "source": [
        "# vekor terhadap skalar\n",
        "print(a)\n",
        "\n",
        "a * 10"
      ]
    },
    {
      "cell_type": "code",
      "execution_count": null,
      "metadata": {
        "colab": {
          "base_uri": "https://localhost:8080/",
          "height": 265
        },
        "id": "PvX-lCTYFC6l",
        "outputId": "87922ac5-efed-4647-c713-105b28e867be"
      },
      "outputs": [
        {
          "data": {
            "image/png": "[encoded data removed]",
            "text/plain": [
              "<Figure size 432x288 with 1 Axes>"
            ]
          },
          "metadata": {
            "needs_background": "light"
          },
          "output_type": "display_data"
        }
      ],
      "source": [
        "v = np.array([3, 2])\n",
        "\n",
        "plot_vector2d(v, color='r')\n",
        "plot_vector2d(-1.5*v, color='g')\n",
        "\n",
        "plt.axis([-5,5,-5,5]) # rentang axis sumbu x dan y\n",
        "plt.axvline(0,0)\n",
        "plt.axhline(0,0)\n",
        "plt.grid()\n",
        "plt.show()"
      ]
    },
    {
      "cell_type": "code",
      "execution_count": null,
      "metadata": {
        "colab": {
          "base_uri": "https://localhost:8080/"
        },
        "id": "WyC0XU1NGoLN",
        "outputId": "179c18f7-aede-474d-8ea5-7fe5e026b917"
      },
      "outputs": [
        {
          "data": {
            "text/plain": [
              "array([ 1, 10,  6])"
            ]
          },
          "execution_count": 62,
          "metadata": {},
          "output_type": "execute_result"
        }
      ],
      "source": [
        "# perkalian vektor terhadapt vektor (element wise multiplication)\n",
        "a * b"
      ]
    },
    {
      "cell_type": "code",
      "execution_count": null,
      "metadata": {
        "colab": {
          "base_uri": "https://localhost:8080/"
        },
        "id": "AH4aTJh_Gviz",
        "outputId": "9de6eb13-fbdf-4eea-acf8-3fe7501ebca3"
      },
      "outputs": [
        {
          "name": "stdout",
          "output_type": "stream",
          "text": [
            "[1 5 2] [1 2 3]\n"
          ]
        }
      ],
      "source": [
        "print(a, b)"
      ]
    },
    {
      "cell_type": "code",
      "execution_count": null,
      "metadata": {
        "colab": {
          "base_uri": "https://localhost:8080/"
        },
        "id": "TO_DiDYcG16j",
        "outputId": "2caf04ab-3144-4e51-90f6-157bb67bbc31"
      },
      "outputs": [
        {
          "data": {
            "text/plain": [
              "17"
            ]
          },
          "execution_count": 65,
          "metadata": {},
          "output_type": "execute_result"
        }
      ],
      "source": [
        "# dot product\n",
        "np.dot(a, b)"
      ]
    },
    {
      "cell_type": "code",
      "execution_count": null,
      "metadata": {
        "colab": {
          "base_uri": "https://localhost:8080/"
        },
        "id": "yNIOM3XkHjr2",
        "outputId": "80034067-37a7-48b8-a958-69fdfbc28f7e"
      },
      "outputs": [
        {
          "data": {
            "text/plain": [
              "17"
            ]
          },
          "execution_count": 67,
          "metadata": {},
          "output_type": "execute_result"
        }
      ],
      "source": [
        "a.dot(b)"
      ]
    },
    {
      "cell_type": "code",
      "execution_count": null,
      "metadata": {
        "colab": {
          "base_uri": "https://localhost:8080/"
        },
        "id": "guTmIuGSHoMw",
        "outputId": "36569831-b1e2-4d51-a02c-c9db6d8a8413"
      },
      "outputs": [
        {
          "data": {
            "text/plain": [
              "17"
            ]
          },
          "execution_count": 68,
          "metadata": {},
          "output_type": "execute_result"
        }
      ],
      "source": [
        "a @ b"
      ]
    },
    {
      "cell_type": "markdown",
      "metadata": {
        "id": "MX-CqzKbIg4E"
      },
      "source": [
        "## Cosine similarity"
      ]
    },
    {
      "cell_type": "code",
      "execution_count": null,
      "metadata": {
        "colab": {
          "base_uri": "https://localhost:8080/"
        },
        "id": "AiSqxfRgIgf-",
        "outputId": "e81bc32d-e3f6-4a7a-e66d-c613649b32b3"
      },
      "outputs": [
        {
          "name": "stdout",
          "output_type": "stream",
          "text": [
            "[1 5 2] [1 2 3]\n"
          ]
        }
      ],
      "source": [
        "print(a, b)"
      ]
    },
    {
      "cell_type": "code",
      "execution_count": null,
      "metadata": {
        "colab": {
          "base_uri": "https://localhost:8080/"
        },
        "id": "dyF3xcKXInpp",
        "outputId": "c4486112-3cdb-4100-eab4-c2a1ba3cf0d2"
      },
      "outputs": [
        {
          "data": {
            "text/plain": [
              "0.8295150620062532"
            ]
          },
          "execution_count": 70,
          "metadata": {},
          "output_type": "execute_result"
        }
      ],
      "source": [
        "cos_theta = a @ b / (np.linalg.norm(a)*np.linalg.norm(b))\n",
        "cos_theta"
      ]
    },
    {
      "cell_type": "code",
      "execution_count": 33,
      "metadata": {
        "colab": {
          "base_uri": "https://localhost:8080/",
          "height": 269
        },
        "id": "9elOcm_KJBfR",
        "outputId": "a6a3140e-687e-4ca7-8cab-31fea03258f1"
      },
      "outputs": [
        {
          "data": {
            "image/png": "[encoded data removed]",
            "text/plain": [
              "<Figure size 432x288 with 1 Axes>"
            ]
          },
          "metadata": {
            "needs_background": "light"
          },
          "output_type": "display_data"
        }
      ],
      "source": [
        "v = np.array([0, 2])\n",
        "u = np.array([4, 0])\n",
        "\n",
        "plot_vector2d(v, color='r')\n",
        "plot_vector2d(u, color='g')\n",
        "\n",
        "plt.axis([0,5,0,5]) # rentang axis sumbu x dan y\n",
        "plt.grid()\n",
        "plt.show()"
      ]
    },
    {
      "cell_type": "code",
      "execution_count": 29,
      "metadata": {
        "id": "ANM5jLBUKM9Z"
      },
      "outputs": [],
      "source": [
        "# define function to calculate cosine similarity\n",
        "def cosine_similarity(v,u):  \n",
        "  cos_theta = v @ u / (np.linalg.norm(v) * np.linalg.norm(u))\n",
        "  print(cos_theta)"
      ]
    },
    {
      "cell_type": "code",
      "execution_count": 34,
      "metadata": {},
      "outputs": [
        {
          "name": "stdout",
          "output_type": "stream",
          "text": [
            "0.0\n"
          ]
        }
      ],
      "source": [
        "cosine_similarity(v,u)"
      ]
    },
    {
      "cell_type": "code",
      "execution_count": 37,
      "metadata": {
        "colab": {
          "base_uri": "https://localhost:8080/"
        },
        "id": "pl3AyA9HJ7Qh",
        "outputId": "92a7870c-8f42-4c2c-9a8c-41d6e4a78b90"
      },
      "outputs": [
        {
          "data": {
            "text/plain": [
              "0.0"
            ]
          },
          "execution_count": 37,
          "metadata": {},
          "output_type": "execute_result"
        }
      ],
      "source": [
        "cos_theta = v @ u / (np.linalg.norm(v) * np.linalg.norm(u))\n",
        "cos_theta"
      ]
    },
    {
      "cell_type": "code",
      "execution_count": 38,
      "metadata": {
        "colab": {
          "base_uri": "https://localhost:8080/"
        },
        "id": "lVn9r_KbMPHl",
        "outputId": "326b9f36-3c17-47d7-d6b1-d12bbfb81dd1"
      },
      "outputs": [
        {
          "data": {
            "text/plain": [
              "1.5707963267948966"
            ]
          },
          "execution_count": 38,
          "metadata": {},
          "output_type": "execute_result"
        }
      ],
      "source": [
        "# convert cos -> radian\n",
        "radian = np.arccos(cos_theta)\n",
        "radian"
      ]
    },
    {
      "cell_type": "code",
      "execution_count": 39,
      "metadata": {
        "colab": {
          "base_uri": "https://localhost:8080/",
          "height": 200
        },
        "id": "nqcIGOPsMg5u",
        "outputId": "235d3ab6-c420-4777-c360-193e9875378b"
      },
      "outputs": [
        {
          "data": {
            "text/plain": [
              "90.0"
            ]
          },
          "execution_count": 39,
          "metadata": {},
          "output_type": "execute_result"
        }
      ],
      "source": [
        "# convert radian -> degree\n",
        "degree = np.degrees(radian)\n",
        "degree"
      ]
    },
    {
      "cell_type": "code",
      "execution_count": null,
      "metadata": {
        "colab": {
          "base_uri": "https://localhost:8080/",
          "height": 269
        },
        "id": "MNBDjktcKWdM",
        "outputId": "9a38ffb4-5ae4-466c-d07d-44dbfafff6ae"
      },
      "outputs": [
        {
          "data": {
            "image/png": "[encoded data removed]",
            "text/plain": [
              "<Figure size 432x288 with 1 Axes>"
            ]
          },
          "metadata": {
            "needs_background": "light"
          },
          "output_type": "display_data"
        }
      ],
      "source": [
        "v = np.array([0, 5])\n",
        "u = np.array([0, 2])\n",
        "\n",
        "plot_vector2d(v, color='r')\n",
        "plot_vector2d(u, color='g')\n",
        "\n",
        "plt.axis([0,5,0,5]) # rentang axis sumbu x dan y\n",
        "plt.grid()\n",
        "plt.show()"
      ]
    },
    {
      "cell_type": "code",
      "execution_count": null,
      "metadata": {
        "colab": {
          "base_uri": "https://localhost:8080/"
        },
        "id": "SbnRPMNvKYI7",
        "outputId": "7972f9f7-54b4-445f-a4cd-153de348cb1a"
      },
      "outputs": [
        {
          "name": "stdout",
          "output_type": "stream",
          "text": [
            "1.0\n"
          ]
        }
      ],
      "source": [
        "cosine_similarity(v, u)"
      ]
    },
    {
      "cell_type": "markdown",
      "metadata": {
        "id": "moHBW2RMM2Ev"
      },
      "source": [
        "- kalimat 1: Kemarin saya pergi ke rumah nenek saya\n",
        "- kalimat 2: Kemarin saya pergi ke rumah kakek saya\n",
        "\n",
        "| Kata Unik | Kemunculan Kata di teks_1 | Kemunculan Kata di teks_2 |\n",
        "| --- | --- | --- |\n",
        "| kemarin | 1 | 1 |\n",
        "| saya | 2 | 2 | \n",
        "| pergi | 1 | 1 | \n",
        "| ke | 1 | 1 | \n",
        "| rumah | 1 | 1 | \n",
        "| nenek | 1 | 0 | \n",
        "| kakek | 0 | 1 | "
      ]
    },
    {
      "cell_type": "code",
      "execution_count": null,
      "metadata": {
        "colab": {
          "base_uri": "https://localhost:8080/"
        },
        "id": "85Nve8-vM1oS",
        "outputId": "f52ca566-64bc-41e9-eaf7-f66042dbd6f8"
      },
      "outputs": [
        {
          "name": "stdout",
          "output_type": "stream",
          "text": [
            "[1 2 1 1 1 1 0]\n",
            "[1 2 1 1 1 0 1]\n"
          ]
        }
      ],
      "source": [
        "kal_1 = [1, 2, 1, 1, 1, 1, 0]\n",
        "kal_2 = [1, 2, 1, 1, 1, 0, 1]\n",
        "\n",
        "kal_1 = np.array(kal_1)\n",
        "kal_2 = np.array(kal_2)\n",
        "\n",
        "print(kal_1)\n",
        "print(kal_2)"
      ]
    },
    {
      "cell_type": "code",
      "execution_count": null,
      "metadata": {
        "colab": {
          "base_uri": "https://localhost:8080/"
        },
        "id": "iYv8jP80OZCo",
        "outputId": "54dd5162-5cb1-40c9-ef5a-9d18286681d6"
      },
      "outputs": [
        {
          "data": {
            "text/plain": [
              "0.8888888888888888"
            ]
          },
          "execution_count": 92,
          "metadata": {},
          "output_type": "execute_result"
        }
      ],
      "source": [
        "cos_theta = kal_1 @ kal_2 / (np.linalg.norm(kal_1)*np.linalg.norm(kal_2))\n",
        "cos_theta"
      ]
    },
    {
      "cell_type": "markdown",
      "metadata": {
        "id": "dNxr6qfxQh1n"
      },
      "source": [
        "- kalimat 1: Malam kemarin saya belajar\n",
        "- kalimat 2: Kemarin ada pertandingan final badminton\n",
        "\n",
        "| Kata Unik | Kemunculan Kata di teks_1 | Kemunculan Kata di teks_2 |\n",
        "| --- | --- | --- |\n",
        "| malam | 1 | 0 |\n",
        "| kemarin | 1 | 1 |\n",
        "| saya | 1 | 0 | \n",
        "| belajar | 1 | 0 | \n",
        "| ada | 0 | 1 | \n",
        "| pertandingan | 0 | 1 | \n",
        "| final | 0 | 1 | \n",
        "| badminton | 0 | 1 | "
      ]
    },
    {
      "cell_type": "code",
      "execution_count": null,
      "metadata": {
        "colab": {
          "base_uri": "https://localhost:8080/"
        },
        "id": "5yjFYatBQhVT",
        "outputId": "65342cc6-068d-4521-fa45-9aa7daac3637"
      },
      "outputs": [
        {
          "name": "stdout",
          "output_type": "stream",
          "text": [
            "[1 1 1 1 0 0 0 0]\n",
            "[0 1 0 0 1 1 1 1]\n"
          ]
        }
      ],
      "source": [
        "kal1 = [1, 1, 1, 1, 0, 0, 0, 0]\n",
        "kal2 = [0, 1, 0, 0, 1, 1, 1, 1]\n",
        "\n",
        "kal1 = np.array(kal1)\n",
        "kal2 = np.array(kal2)\n",
        "\n",
        "print(kal1)\n",
        "print(kal2)"
      ]
    },
    {
      "cell_type": "code",
      "execution_count": null,
      "metadata": {
        "colab": {
          "base_uri": "https://localhost:8080/"
        },
        "id": "m74_iqZfR3qk",
        "outputId": "1485bf6e-8e50-4768-ad0d-a132aac7e6a5"
      },
      "outputs": [
        {
          "name": "stdout",
          "output_type": "stream",
          "text": [
            "0.22360679774997896\n"
          ]
        }
      ],
      "source": [
        "cosine_similarity(kal1, kal2)"
      ]
    },
    {
      "cell_type": "markdown",
      "metadata": {
        "id": "BvcUpBSHSIF5"
      },
      "source": [
        "- kal 1: kucing mengejar tikus\n",
        "- kal 2: tikus mengajar kucing\n",
        "\n",
        "| Kata Unik | Jumlah Kata di teks_1 | Jumlah Kata di teks_2 |\n",
        "| --- | --- | --- |\n",
        "| kucing | 1 | 1 | \n",
        "| mengejar | 1 | 1 | \n",
        "| tikus | 1 | 1 |"
      ]
    },
    {
      "cell_type": "code",
      "execution_count": null,
      "metadata": {
        "colab": {
          "base_uri": "https://localhost:8080/"
        },
        "id": "VecSllm6SFmp",
        "outputId": "3e9e1964-86ad-4c70-9a8f-363fdc11a550"
      },
      "outputs": [
        {
          "name": "stdout",
          "output_type": "stream",
          "text": [
            "1.0000000000000002\n"
          ]
        }
      ],
      "source": [
        "kal_1 = np.array([1, 1, 1])\n",
        "kal_2 = np.array([1, 1, 1])\n",
        "\n",
        "cosine_similarity(kal_1, kal_2)"
      ]
    }
  ],
  "metadata": {
    "colab": {
      "collapsed_sections": [],
      "name": "VECTOR.ipynb",
      "provenance": []
    },
    "kernelspec": {
      "display_name": "Python 3.9.12 ('base')",
      "language": "python",
      "name": "python3"
    },
    "language_info": {
      "codemirror_mode": {
        "name": "ipython",
        "version": 3
      },
      "file_extension": ".py",
      "mimetype": "text/x-python",
      "name": "python",
      "nbconvert_exporter": "python",
      "pygments_lexer": "ipython3",
      "version": "3.9.12"
    },
    "vscode": {
      "interpreter": {
        "hash": "0c7e7f3bbf4a7f7f6f73f34a687fa8ee0680a62a46cef3641df3daab4f224d43"
      }
    }
  },
  "nbformat": 4,
  "nbformat_minor": 0
}

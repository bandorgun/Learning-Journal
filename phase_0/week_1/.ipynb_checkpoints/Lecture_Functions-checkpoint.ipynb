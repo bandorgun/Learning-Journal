{
 "cells": [
  {
   "cell_type": "markdown",
   "id": "6c3793ee",
   "metadata": {},
   "source": [
    "### function tanpa argumen"
   ]
  },
  {
   "cell_type": "code",
   "execution_count": 4,
   "id": "f6b92507",
   "metadata": {},
   "outputs": [
    {
     "name": "stdout",
     "output_type": "stream",
     "text": [
      "nama saya bandoro\n",
      "selamat datang\n"
     ]
    }
   ],
   "source": [
    "def greet():\n",
    "    print(\"nama saya bandoro\")\n",
    "    print(\"selamat datang\")\n",
    "\n",
    "greet()"
   ]
  },
  {
   "cell_type": "markdown",
   "id": "d2f716ff",
   "metadata": {},
   "source": [
    "### function dengan parameter dan argumen"
   ]
  },
  {
   "cell_type": "code",
   "execution_count": 6,
   "id": "cbb083e6",
   "metadata": {},
   "outputs": [
    {
     "name": "stdout",
     "output_type": "stream",
     "text": [
      "nama saya Bandoro\n",
      "usia saya 24 tahun\n",
      "selamat datang!\n"
     ]
    }
   ],
   "source": [
    "# dibawah ini merupakan parameter (mirip kyk variabel yang kita defined di dalam function)\n",
    "\n",
    "def greet(nama, usia):\n",
    "    print(f\"nama saya {nama}\")\n",
    "    print(f\"usia saya {usia} tahun\")\n",
    "    print(\"selamat datang!\")\n",
    "\n",
    "greet(\"Bandoro\", 24)"
   ]
  },
  {
   "cell_type": "code",
   "execution_count": null,
   "id": "c40643ae",
   "metadata": {},
   "outputs": [],
   "source": []
  }
 ],
 "metadata": {
  "kernelspec": {
   "display_name": "Python 3 (ipykernel)",
   "language": "python",
   "name": "python3"
  },
  "language_info": {
   "codemirror_mode": {
    "name": "ipython",
    "version": 3
   },
   "file_extension": ".py",
   "mimetype": "text/x-python",
   "name": "python",
   "nbconvert_exporter": "python",
   "pygments_lexer": "ipython3",
   "version": "3.9.12"
  }
 },
 "nbformat": 4,
 "nbformat_minor": 5
}

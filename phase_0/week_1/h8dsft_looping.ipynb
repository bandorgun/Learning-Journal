{
 "cells": [
  {
   "cell_type": "markdown",
   "metadata": {},
   "source": [
    "# Non Graded Challenge 1"
   ]
  },
  {
   "cell_type": "markdown",
   "metadata": {},
   "source": [
    "Buatlah sebuah list dengan value berupa:numbers = [951, 402, 984, 651, 360, 69, 408, 319, 601, 485, 980, 507, 725, 547, 544, 615, 83, 165, 141, 501, 263, 617, 865, 575, 219, 390, 984, 592, 236, 105, 942, 941, 386, 462, 47, 418, 907, 344, 236, 375, 823, 566, 597, 978, 328, 615, 953, 345, 399, 162, 758, 219, 918, 237, 412, 566, 826, 248, 866, 950, 626, 949]-Loop dan print semua angka genap dari list angka diatas dengan urutan yang sama. -Jangan mencetak angka apapun yang muncul setelah angka 918 berdasarkan posisi angka tersebut pada list diatas.-\\Tampilkan pesan ”Done” setelah looping berakhir."
   ]
  },
  {
   "cell_type": "code",
   "execution_count": 14,
   "metadata": {},
   "outputs": [
    {
     "name": "stdout",
     "output_type": "stream",
     "text": [
      "402\n",
      "984\n",
      "360\n",
      "408\n",
      "980\n",
      "544\n",
      "390\n",
      "984\n",
      "592\n",
      "236\n",
      "942\n",
      "386\n",
      "462\n",
      "418\n",
      "344\n",
      "236\n",
      "566\n",
      "978\n",
      "328\n",
      "162\n",
      "758\n",
      "918\n",
      "Total even number : 22\n",
      "Done\n"
     ]
    }
   ],
   "source": [
    "numbers = [951, 402, 984, 651, 360, 69, 408, 319, 601, 485, 980, 507, 725, 547, 544, 615, 83, 165, 141, 501, 263, 617, 865, 575, 219, 390, 984, 592, 236, 105, 942, 941, 386, 462, 47, 418, 907, 344, 236, 375, 823, 566, 597, 978, 328, 615, 953, 345, 399, 162, 758, 219, 918, 237, 412, 566, 826, 248, 866, 950, 626, 949]\n",
    "\n",
    "even_namba = []\n",
    "\n",
    "for i in numbers:\n",
    "    if i == 918:\n",
    "        print(i)\n",
    "        even_namba += [i]\n",
    "        print(f\"Total even number : {len(even_namba)}\")\n",
    "        print(\"Done\")\n",
    "        break\n",
    "    elif i % 2 == 0:\n",
    "        print(i)\n",
    "        even_namba += [i]\n",
    "\n",
    "#if true total even number = 22\n"
   ]
  },
  {
   "cell_type": "code",
   "execution_count": 5,
   "metadata": {},
   "outputs": [
    {
     "name": "stdout",
     "output_type": "stream",
     "text": [
      "29\n"
     ]
    }
   ],
   "source": [
    "#total even number including after 918\n",
    "\n",
    "even_numbers = []\n",
    "\n",
    "for j in numbers:\n",
    "    if j % 2 == 0:\n",
    "        even_numbers.append(j)\n",
    "\n",
    "print(len(even_numbers))\n"
   ]
  },
  {
   "cell_type": "code",
   "execution_count": null,
   "metadata": {},
   "outputs": [],
   "source": []
  }
 ],
 "metadata": {
  "kernelspec": {
   "display_name": "Python 3.9.12 ('base')",
   "language": "python",
   "name": "python3"
  },
  "language_info": {
   "codemirror_mode": {
    "name": "ipython",
    "version": 3
   },
   "file_extension": ".py",
   "mimetype": "text/x-python",
   "name": "python",
   "nbconvert_exporter": "python",
   "pygments_lexer": "ipython3",
   "version": "3.9.12"
  },
  "orig_nbformat": 4,
  "vscode": {
   "interpreter": {
    "hash": "0c7e7f3bbf4a7f7f6f73f34a687fa8ee0680a62a46cef3641df3daab4f224d43"
   }
  }
 },
 "nbformat": 4,
 "nbformat_minor": 2
}

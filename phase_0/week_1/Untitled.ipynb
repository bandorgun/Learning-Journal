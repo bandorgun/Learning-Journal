{
 "cells": [
  {
   "cell_type": "code",
   "execution_count": null,
   "id": "ca4ef5ca",
   "metadata": {},
   "outputs": [
    {
     "name": "stdout",
     "output_type": "stream",
     "text": [
      "Hello World!\n"
     ]
    }
   ],
   "source": [
    "print(\"Hello World!\")"
   ]
  },
  {
   "cell_type": "markdown",
   "id": "1d3b8387",
   "metadata": {},
   "source": [
    "Ini adalah notebook pertama saya di Hacktiv8"
   ]
  },
  {
   "cell_type": "markdown",
   "id": "febed1cf",
   "metadata": {},
   "source": [
    "# Ini Judul"
   ]
  },
  {
   "cell_type": "code",
   "execution_count": null,
   "id": "3cef2ab4",
   "metadata": {},
   "outputs": [],
   "source": [
    "print(\"Onde Mande\")"
   ]
  },
  {
   "cell_type": "code",
   "execution_count": null,
   "id": "f192c114",
   "metadata": {},
   "outputs": [],
   "source": []
  }
 ],
 "metadata": {
  "kernelspec": {
   "display_name": "Python 3 (ipykernel)",
   "language": "python",
   "name": "python3"
  },
  "language_info": {
   "codemirror_mode": {
    "name": "ipython",
    "version": 3
   },
   "file_extension": ".py",
   "mimetype": "text/x-python",
   "name": "python",
   "nbconvert_exporter": "python",
   "pygments_lexer": "ipython3",
   "version": "3.9.12"
  }
 },
 "nbformat": 4,
 "nbformat_minor": 5
}

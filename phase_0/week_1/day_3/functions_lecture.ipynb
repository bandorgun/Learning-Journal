{
  "cells": [
    {
      "cell_type": "code",
      "execution_count": null,
      "metadata": {
        "id": "lIYdn1woOS1n"
      },
      "outputs": [],
      "source": [
        "def nama_function (parameter):\n",
        "  '''\n",
        "  docstrings = keterangan\n",
        "\n",
        "  '''\n",
        "  #body \n",
        "  print()\n",
        "  return\n"
      ]
    },
    {
      "cell_type": "code",
      "source": [
        "def cetak (nama):\n",
        "  print(f'saya adalah {nama}')"
      ],
      "metadata": {
        "id": "8m8IC3I7PKNK"
      },
      "execution_count": null,
      "outputs": []
    },
    {
      "cell_type": "code",
      "source": [
        "cetak('rachman')"
      ],
      "metadata": {
        "id": "2soEBCMjQVx0",
        "outputId": "4027b99b-3c10-4b90-f9e1-78124cbd6122",
        "colab": {
          "base_uri": "https://localhost:8080/"
        }
      },
      "execution_count": null,
      "outputs": [
        {
          "output_type": "stream",
          "name": "stdout",
          "text": [
            "saya adalah rachman\n"
          ]
        }
      ]
    },
    {
      "cell_type": "code",
      "source": [
        "def cetak (nama,pekerjaan):\n",
        "  print(f'saya adalah {nama} sebagai {pekerjaan}')"
      ],
      "metadata": {
        "id": "x5f27qh4Qaqg"
      },
      "execution_count": null,
      "outputs": []
    },
    {
      "cell_type": "code",
      "source": [
        "cetak(pekerjaan='pengajar',nama='rachman')"
      ],
      "metadata": {
        "id": "mTePDPUJQouj",
        "outputId": "f734ec20-d933-405b-ef74-b7a01d421258",
        "colab": {
          "base_uri": "https://localhost:8080/"
        }
      },
      "execution_count": null,
      "outputs": [
        {
          "output_type": "stream",
          "name": "stdout",
          "text": [
            "saya adalah rachman sebagai pengajar\n"
          ]
        }
      ]
    },
    {
      "cell_type": "code",
      "source": [
        "a = 'rachman'\n",
        "b = 'pengajar'\n",
        "\n",
        "cetak(pekerjaan = a,nama = b)"
      ],
      "metadata": {
        "id": "3Lx-8f5zQwPe",
        "outputId": "1466c646-8517-471e-a26a-a00fafbbc82c",
        "colab": {
          "base_uri": "https://localhost:8080/"
        }
      },
      "execution_count": null,
      "outputs": [
        {
          "output_type": "stream",
          "name": "stdout",
          "text": [
            "saya adalah pengajar sebagai rachman\n"
          ]
        }
      ]
    },
    {
      "cell_type": "code",
      "source": [
        "def tambah (x,y):\n",
        "  hasil = x+y\n",
        "  return hasil"
      ],
      "metadata": {
        "id": "PJxG9jtTRkbD"
      },
      "execution_count": null,
      "outputs": []
    },
    {
      "cell_type": "code",
      "source": [
        "tambah(5,5)"
      ],
      "metadata": {
        "id": "PLU-HF0DR1Yl",
        "outputId": "4ecfd4d8-a5e0-4d2d-f0ec-a85f4f8d0769",
        "colab": {
          "base_uri": "https://localhost:8080/"
        }
      },
      "execution_count": null,
      "outputs": [
        {
          "output_type": "stream",
          "name": "stdout",
          "text": [
            "10\n"
          ]
        }
      ]
    },
    {
      "cell_type": "code",
      "source": [
        "x = tambah(5,4)"
      ],
      "metadata": {
        "id": "Onh8keNQR4ym"
      },
      "execution_count": null,
      "outputs": []
    },
    {
      "cell_type": "code",
      "source": [
        "mylist = [10,20,30]"
      ],
      "metadata": {
        "id": "B8Mi31FCSPVk"
      },
      "execution_count": null,
      "outputs": []
    },
    {
      "cell_type": "code",
      "source": [
        "def rubahlist (number):\n",
        "  mylist = number + [1,2,3]\n",
        "  return mylist"
      ],
      "metadata": {
        "id": "aZSk3JPESVEF"
      },
      "execution_count": null,
      "outputs": []
    },
    {
      "cell_type": "code",
      "source": [
        "rubahlist([30,20,10])"
      ],
      "metadata": {
        "id": "i5qXJIGjTHqK",
        "outputId": "ae262329-4d0b-439b-a99e-cdfc12739281",
        "colab": {
          "base_uri": "https://localhost:8080/"
        }
      },
      "execution_count": null,
      "outputs": [
        {
          "output_type": "execute_result",
          "data": {
            "text/plain": [
              "[30, 20, 10, 1, 2, 3]"
            ]
          },
          "metadata": {},
          "execution_count": 60
        }
      ]
    },
    {
      "cell_type": "code",
      "source": [
        "mylist = rubahlist([30,20,10])"
      ],
      "metadata": {
        "id": "pZ6LOFX_TMA1"
      },
      "execution_count": null,
      "outputs": []
    },
    {
      "cell_type": "code",
      "source": [
        "mylist"
      ],
      "metadata": {
        "id": "YYOHRHnpTsSO",
        "outputId": "d3b6f5d6-3226-488b-b3d1-df7dc2f7e89a",
        "colab": {
          "base_uri": "https://localhost:8080/"
        }
      },
      "execution_count": null,
      "outputs": [
        {
          "output_type": "execute_result",
          "data": {
            "text/plain": [
              "[30, 20, 10, 1, 2, 3]"
            ]
          },
          "metadata": {},
          "execution_count": 62
        }
      ]
    },
    {
      "cell_type": "code",
      "source": [
        "x = 5 + tambah(10,5)"
      ],
      "metadata": {
        "id": "Q7TIdzvFUXEy"
      },
      "execution_count": null,
      "outputs": []
    },
    {
      "cell_type": "code",
      "source": [
        "def berhitung (x,y):\n",
        "  tambah = x+y\n",
        "  kurang = x-y\n",
        "  bagi = x/y\n",
        "  kali = x*y\n",
        "  return tambah,kurang,bagi,kali"
      ],
      "metadata": {
        "id": "IE3n3siaVAE3"
      },
      "execution_count": null,
      "outputs": []
    },
    {
      "cell_type": "code",
      "source": [
        "a,b,c,d = berhitung(10,5)\n",
        "print(a)\n",
        "print(b)\n",
        "print(c)\n",
        "print(d)"
      ],
      "metadata": {
        "id": "E0EcwiWVVArj",
        "outputId": "fb25c0eb-c241-42e8-85b8-a13d6fe71e84",
        "colab": {
          "base_uri": "https://localhost:8080/"
        }
      },
      "execution_count": null,
      "outputs": [
        {
          "output_type": "stream",
          "name": "stdout",
          "text": [
            "15\n",
            "5\n",
            "2.0\n",
            "50\n"
          ]
        }
      ]
    },
    {
      "cell_type": "code",
      "source": [
        "type(a)"
      ],
      "metadata": {
        "id": "VT_ZBHlBVUuZ",
        "outputId": "b6281236-00b5-4dd5-b997-602078749b46",
        "colab": {
          "base_uri": "https://localhost:8080/"
        }
      },
      "execution_count": null,
      "outputs": [
        {
          "output_type": "execute_result",
          "data": {
            "text/plain": [
              "int"
            ]
          },
          "metadata": {},
          "execution_count": 68
        }
      ]
    },
    {
      "cell_type": "code",
      "source": [
        "a = 50"
      ],
      "metadata": {
        "id": "49Q8ROrVVvDy"
      },
      "execution_count": null,
      "outputs": []
    },
    {
      "cell_type": "code",
      "source": [
        "x = int(input('Masukkan x: '))\n",
        "print('x adalah bilangan', 'genap' if (x % 2 == 0) else 'ganjil')\n"
      ],
      "metadata": {
        "id": "TST1N3l8V8vy"
      },
      "execution_count": null,
      "outputs": []
    },
    {
      "cell_type": "code",
      "source": [
        "def modulus(number):\n",
        "    if number % 2 == 0:\n",
        "        print(f'{number} genap')\n",
        "    else:\n",
        "        print(f'{number} ganjil')\n",
        "\n",
        "a = int(input('Masukkan Angka : '))\n",
        "print(modulus(a))\n"
      ],
      "metadata": {
        "id": "ByWiyXNiWlTx",
        "outputId": "dbfb24c6-8883-4788-9061-192f195e91d4",
        "colab": {
          "base_uri": "https://localhost:8080/"
        }
      },
      "execution_count": null,
      "outputs": [
        {
          "output_type": "stream",
          "name": "stdout",
          "text": [
            "Masukkan Angka : 50\n",
            "50 genap\n",
            "None\n"
          ]
        }
      ]
    },
    {
      "cell_type": "code",
      "source": [
        "a = input('masukan kata-kata hacktiv8 ')"
      ],
      "metadata": {
        "id": "pLYVGlEIWmpA",
        "outputId": "a616a9cf-9b25-40b6-d9ae-a51db3611fbf",
        "colab": {
          "base_uri": "https://localhost:8080/"
        }
      },
      "execution_count": null,
      "outputs": [
        {
          "name": "stdout",
          "output_type": "stream",
          "text": [
            "masukan kata-kata hacktiv8 Hacktiv8\n"
          ]
        }
      ]
    },
    {
      "cell_type": "code",
      "source": [
        "def deteksi_kata(a):\n",
        "    if a in \"hacktiv8\":\n",
        "        p = print(True)\n",
        "    else:\n",
        "        p = print(False)\n",
        "    return p\n"
      ],
      "metadata": {
        "id": "51Z6PUIXW6cr"
      },
      "execution_count": null,
      "outputs": []
    },
    {
      "cell_type": "code",
      "source": [
        "deteksi_kata(a)"
      ],
      "metadata": {
        "id": "6BcVO82-X_RW",
        "outputId": "7952ac95-c951-42ee-c106-352956e0a89b",
        "colab": {
          "base_uri": "https://localhost:8080/"
        }
      },
      "execution_count": null,
      "outputs": [
        {
          "output_type": "stream",
          "name": "stdout",
          "text": [
            "False\n"
          ]
        }
      ]
    },
    {
      "cell_type": "code",
      "source": [
        "def deteksi_kata(kata):\n",
        "  return 'hacktiv8' == kata"
      ],
      "metadata": {
        "id": "w-sl5T3oYFPN"
      },
      "execution_count": null,
      "outputs": []
    },
    {
      "cell_type": "code",
      "source": [
        "deteksi_kata('HACKTIV8')"
      ],
      "metadata": {
        "id": "z2P2JzMqYca2",
        "outputId": "d8a9e45c-3ea0-44d7-ee75-84f7ffe2e7b0",
        "colab": {
          "base_uri": "https://localhost:8080/"
        }
      },
      "execution_count": null,
      "outputs": [
        {
          "output_type": "execute_result",
          "data": {
            "text/plain": [
              "True"
            ]
          },
          "metadata": {},
          "execution_count": 77
        }
      ]
    },
    {
      "cell_type": "code",
      "source": [
        "def tambah (x,y,z,a):\n",
        "  hasil = x+y+z+a\n",
        "  return hasil"
      ],
      "metadata": {
        "id": "a1b-ggFRYgdv"
      },
      "execution_count": null,
      "outputs": []
    },
    {
      "cell_type": "code",
      "source": [
        "def tambah(*args):\n",
        "  return sum(args)"
      ],
      "metadata": {
        "id": "-caZtegHYyVj"
      },
      "execution_count": null,
      "outputs": []
    },
    {
      "cell_type": "code",
      "source": [
        "tambah(1,2,2,1,1,1,1,12,2,2,5)"
      ],
      "metadata": {
        "id": "io9kJMUiZGND",
        "outputId": "db86e677-fd64-44f2-db40-c17faf7c17d2",
        "colab": {
          "base_uri": "https://localhost:8080/"
        }
      },
      "execution_count": null,
      "outputs": [
        {
          "output_type": "execute_result",
          "data": {
            "text/plain": [
              "30"
            ]
          },
          "metadata": {},
          "execution_count": 81
        }
      ]
    },
    {
      "cell_type": "code",
      "source": [
        "def pendaftaran (data,**kwargs):\n",
        "  print(data)\n",
        "  for key,value in kwargs.items():\n",
        "    print(f'pendaftaran an {key}')\n",
        "    print(f'tujuan keberangkatan {value}')"
      ],
      "metadata": {
        "id": "3neBlxXmZImZ"
      },
      "execution_count": null,
      "outputs": []
    },
    {
      "cell_type": "code",
      "source": [
        "pendaftaran (3,bamabang='makasar',anto='jakarta',bima='surabaya')"
      ],
      "metadata": {
        "id": "chmmdu3kaX0x",
        "outputId": "c731d94c-a22d-489b-c7aa-b5aa7c1fa9b7",
        "colab": {
          "base_uri": "https://localhost:8080/"
        }
      },
      "execution_count": null,
      "outputs": [
        {
          "output_type": "stream",
          "name": "stdout",
          "text": [
            "3\n",
            "pendaftaran an bamabang\n",
            "tujuan keberangkatan makasar\n",
            "pendaftaran an anto\n",
            "tujuan keberangkatan jakarta\n",
            "pendaftaran an bima\n",
            "tujuan keberangkatan surabaya\n"
          ]
        }
      ]
    },
    {
      "cell_type": "code",
      "source": [
        ""
      ],
      "metadata": {
        "id": "mkFsgnmFaj7d"
      },
      "execution_count": null,
      "outputs": []
    },
    {
      "cell_type": "markdown",
      "source": [
        "<img src = 'https://openaccesspub.org/article/926/images/image1.jpg'>"
      ],
      "metadata": {
        "id": "qfQ0ha12bNSl"
      }
    },
    {
      "cell_type": "code",
      "source": [
        "def bmi_calculator(nama,berat,tinggi):\n",
        "  bmi = berat/tinggi**2\n",
        "  if bmi < 18.5:\n",
        "    print(f'{nama} score bmi anda adalah {bmi} anda underweight')\n",
        "  elif bmi >= 18.5 and bmi <=24.9:\n",
        "    print(f'{nama} score bmi anda adalah {bmi} anda normal')\n",
        "  else:\n",
        "    print(f'{nama} score bmi anda adalah {bmi} anda overweight')"
      ],
      "metadata": {
        "id": "Da11I8RdctpB"
      },
      "execution_count": null,
      "outputs": []
    },
    {
      "cell_type": "code",
      "source": [
        "def BMI(weight,height):\n",
        "    BMI_formula = weight / (height**2)\n",
        "    if BMI_formula > 0:\n",
        "        if BMI_formula < 18.5:\n",
        "            return print(f\"BMI anda = {BMI_formula} masuk dalam kategori underweight\")\n",
        "        elif 18.5<=BMI_formula<= 24.9:\n",
        "            return print(f\"BMI anda = {BMI_formula} masuk dalam kategori normal\")\n",
        "        elif 25<=BMI_formula<= 29.9:\n",
        "            return print(f\"BMI anda = {BMI_formula} masuk dalam kategori overweight\")\n",
        "        else:\n",
        "            return print(f\"BMI anda = {BMI_formula} masuk dalam kategori very overweight\")\n"
      ],
      "metadata": {
        "id": "YuDQG2lqchlL"
      },
      "execution_count": null,
      "outputs": []
    },
    {
      "cell_type": "code",
      "source": [
        "w = float(input(\"Masukan berat badan (kg): \"))\n",
        "h = float(input(\"Masukan tinggi badan (cm): \"))\n",
        "h *= 0.01\n",
        "\n",
        "def bmi(w, h):\n",
        "    calc = w/(h*h)\n",
        "    print(f\"BMI anda adalah {calc}!\")\n",
        "\n",
        "bmi(w,h)\n"
      ],
      "metadata": {
        "id": "1EgBarRJbN0c",
        "outputId": "774ebd3d-6661-4115-ab91-77144b23a2d4",
        "colab": {
          "base_uri": "https://localhost:8080/"
        }
      },
      "execution_count": null,
      "outputs": [
        {
          "output_type": "stream",
          "name": "stdout",
          "text": [
            "Masukan berat badan (kg): 50\n",
            "Masukan tinggi badan (cm): 180\n",
            "BMI anda adalah 15.432098765432098!\n"
          ]
        }
      ]
    },
    {
      "cell_type": "code",
      "source": [
        "berat = eval(input(\"Berat badan(kg): \"))\n",
        "tinggi = eval(input(\"Tinggi badan(cm): \"))\n",
        "tinggi = tinggi/100\n",
        "\n",
        "def kalkulator_BMI(berat, tinggi):\n",
        "    BMI = berat / tinggi**2\n",
        "    if BMI < 18.5:\n",
        "        return f\"BMI: {BMI}, Underweight\"\n",
        "    elif 18.5 <= BMI <= 24.9:\n",
        "        return f\"BMI: {BMI}, Normal\"\n",
        "    elif 25.0 <= BMI <= 29.9:\n",
        "        return f\"BMI: {np.round_(BMI,2)}, Overweight\"\n",
        "    elif BMI >= 30:\n",
        "        return f\"BMI: {BMI}, Obese\"\n",
        "\n",
        "print(kalkulator_BMI(berat, tinggi))\n"
      ],
      "metadata": {
        "id": "EomgDENFcVzl",
        "outputId": "72f98dec-e8e4-4d32-a04b-a7013a2b8a8f",
        "colab": {
          "base_uri": "https://localhost:8080/"
        }
      },
      "execution_count": null,
      "outputs": [
        {
          "output_type": "stream",
          "name": "stdout",
          "text": [
            "Berat badan(kg): 50\n",
            "Tinggi badan(cm): 1.8\n",
            "BMI: 154320.98765432095, Obese\n"
          ]
        }
      ]
    },
    {
      "cell_type": "code",
      "source": [
        ""
      ],
      "metadata": {
        "id": "H0JhKanReHIB"
      },
      "execution_count": null,
      "outputs": []
    }
  ],
  "metadata": {
    "colab": {
      "name": "functions.ipynb",
      "provenance": []
    },
    "kernelspec": {
      "display_name": "Python 3",
      "name": "python3"
    }
  },
  "nbformat": 4,
  "nbformat_minor": 0
}
{
 "cells": [
  {
   "cell_type": "markdown",
   "id": "6c3793ee",
   "metadata": {},
   "source": [
    "### function tanpa argumen"
   ]
  },
  {
   "cell_type": "code",
   "execution_count": 4,
   "id": "f6b92507",
   "metadata": {},
   "outputs": [
    {
     "name": "stdout",
     "output_type": "stream",
     "text": [
      "nama saya bandoro\n",
      "selamat datang\n"
     ]
    }
   ],
   "source": [
    "def greet():\n",
    "    print(\"nama saya bandoro\")\n",
    "    print(\"selamat datang\")\n",
    "\n",
    "greet()"
   ]
  },
  {
   "cell_type": "markdown",
   "id": "d2f716ff",
   "metadata": {},
   "source": [
    "### function dengan parameter dan argumen"
   ]
  },
  {
   "cell_type": "code",
   "execution_count": null,
   "id": "49240a89",
   "metadata": {},
   "outputs": [],
   "source": [
    "def tambah(x, y):\n",
    "    total = x + y\n",
    "    return total"
   ]
  },
  {
   "cell_type": "code",
   "execution_count": 6,
   "id": "cbb083e6",
   "metadata": {},
   "outputs": [
    {
     "name": "stdout",
     "output_type": "stream",
     "text": [
      "nama saya Bandoro\n",
      "usia saya 24 tahun\n",
      "selamat datang!\n"
     ]
    }
   ],
   "source": [
    "# dibawah ini merupakan parameter (mirip kyk variabel yang kita defined di dalam function)\n",
    "\n",
    "def greet(nama, usia):\n",
    "    print(f\"nama saya {nama}\")\n",
    "    print(f\"usia saya {usia} tahun\")\n",
    "    print(\"selamat datang!\")\n",
    "\n",
    "greet(\"Bandoro\", 24)"
   ]
  },
  {
   "cell_type": "markdown",
   "id": "8cc6da62",
   "metadata": {},
   "source": [
    "### sebuah function dapat (1) perform a task or (2) return a value"
   ]
  },
  {
   "cell_type": "code",
   "execution_count": 1,
   "id": "c40643ae",
   "metadata": {},
   "outputs": [
    {
     "name": "stdout",
     "output_type": "stream",
     "text": [
      "nama saya Bandoro\n",
      "usia saya 24 tahun\n",
      "selamat datang!\n"
     ]
    }
   ],
   "source": [
    "# perform a task\n",
    "\n",
    "def greet(nama, usia):\n",
    "    print(f\"nama saya {nama}\")\n",
    "    print(f\"usia saya {usia} tahun\")\n",
    "    print(\"selamat datang!\")\n",
    "\n",
    "greet(\"Bandoro\", 24)"
   ]
  },
  {
   "cell_type": "code",
   "execution_count": 31,
   "id": "e1b73c0f",
   "metadata": {},
   "outputs": [
    {
     "name": "stdout",
     "output_type": "stream",
     "text": [
      "nama saya Bandoro \n",
      "usia saya 24 tahun \n",
      "selamat datang!\n"
     ]
    }
   ],
   "source": [
    "# return a value\n",
    "\n",
    "def greet(nama, usia):\n",
    "    return f\"nama saya {nama} \\nusia saya {usia} tahun \\nselamat datang!\"\n",
    "\n",
    "\n",
    "message = greet(\"Bandoro\", 24)\n",
    "\n",
    "print(message)\n",
    "\n",
    "\n",
    "\n"
   ]
  },
  {
   "cell_type": "markdown",
   "id": "ecbb026d",
   "metadata": {},
   "source": [
    "### fungsi global dan lokal (di ss)"
   ]
  },
  {
   "cell_type": "markdown",
   "id": "ae92c3ac",
   "metadata": {},
   "source": [
    "### fungsi nebak ganjil atau genap"
   ]
  },
  {
   "cell_type": "code",
   "execution_count": 8,
   "id": "de5c07d9",
   "metadata": {},
   "outputs": [
    {
     "name": "stdout",
     "output_type": "stream",
     "text": [
      "genap\n"
     ]
    }
   ],
   "source": [
    "a = 50 \n",
    "\n",
    "def ganjil_atau_genap(x):\n",
    "    if x % 2 == 0:\n",
    "        return \"genap\"\n",
    "    elif x % 2 != 0:\n",
    "        return \"ganjil\"\n",
    "\n",
    "print(ganjil_atau_genap(a))\n",
    "\n"
   ]
  },
  {
   "cell_type": "markdown",
   "id": "5fb175c2",
   "metadata": {},
   "source": [
    "### menentukan input kata sesuai atau tidak"
   ]
  },
  {
   "cell_type": "code",
   "execution_count": 15,
   "id": "6a862190",
   "metadata": {},
   "outputs": [
    {
     "name": "stdout",
     "output_type": "stream",
     "text": [
      "False\n"
     ]
    }
   ],
   "source": [
    "x = input(\"Masukan kata 'hacktiv8': \")\n",
    "x = x.lower()\n",
    "\n",
    "def deteksi_kata(input):\n",
    "    if input == 'hacktiv8':\n",
    "        return True\n",
    "    elif input != 'hacktiv8':\n",
    "        return False\n",
    "\n",
    "print(deteksi_kata(x))\n"
   ]
  },
  {
   "cell_type": "markdown",
   "id": "1c44ddd6",
   "metadata": {},
   "source": [
    "### fungsi khusus *args () dan **kwargs"
   ]
  },
  {
   "cell_type": "code",
   "execution_count": 19,
   "id": "72bbe044",
   "metadata": {},
   "outputs": [
    {
     "name": "stdout",
     "output_type": "stream",
     "text": [
      "12\n"
     ]
    }
   ],
   "source": [
    "# *args parameter --> menyimpan banyak integer\n",
    "def total(*args):\n",
    "    return sum(args)\n",
    "\n",
    "print(total(3,4,5))"
   ]
  },
  {
   "cell_type": "code",
   "execution_count": 7,
   "id": "91c96160",
   "metadata": {},
   "outputs": [
    {
     "name": "stdout",
     "output_type": "stream",
     "text": [
      "{'Anton': 'Makassar', 'Budi': 'Semarang', 'Indah': 'Balikpapan'}\n",
      "<class 'dict'>\n"
     ]
    }
   ],
   "source": [
    "# **kwargs parameter--> menyimpan dictionary\n",
    "\n",
    "def tempat_tinggal(**kwargs):\n",
    "    return (kwargs)\n",
    "\n",
    "print(tempat_tinggal(Anton= \"Makassar\", Budi= \"Semarang\", Indah= \"Balikpapan\"))\n",
    "\n",
    "print(type(tempat_tinggal()))"
   ]
  },
  {
   "cell_type": "markdown",
   "id": "fc0cd088",
   "metadata": {},
   "source": [
    "### kalkulator BMI"
   ]
  },
  {
   "cell_type": "code",
   "execution_count": 18,
   "id": "bcef7734",
   "metadata": {},
   "outputs": [
    {
     "name": "stdout",
     "output_type": "stream",
     "text": [
      "BMI: 22.34351559258195, Normal\n"
     ]
    }
   ],
   "source": [
    "berat = eval(input(\"Berat badan(kg): \"))\n",
    "tinggi = eval(input(\"Tinggi badan(cm): \"))\n",
    "tinggi = tinggi/100\n",
    "\n",
    "def kalkulator_BMI(berat, tinggi):\n",
    "    BMI = berat / tinggi**2\n",
    "    if BMI < 18.5:\n",
    "        return f\"BMI: {BMI}, Underweight\"\n",
    "    elif 18.5 <= BMI <= 24.9:\n",
    "        return f\"BMI: {BMI}, Normal\"\n",
    "    elif 25.0 <= BMI <= 29.9:\n",
    "        return f\"BMI: {BMI}, Overweight\"\n",
    "    elif BMI >= 30:\n",
    "        return f\"BMI: {BMI}, Obese\"\n",
    "\n",
    "print(kalkulator_BMI(berat, tinggi))"
   ]
  },
  {
   "cell_type": "code",
   "execution_count": null,
   "id": "41b4b1ca",
   "metadata": {},
   "outputs": [],
   "source": []
  }
 ],
 "metadata": {
  "kernelspec": {
   "display_name": "Python 3.9.12 ('base')",
   "language": "python",
   "name": "python3"
  },
  "language_info": {
   "codemirror_mode": {
    "name": "ipython",
    "version": 3
   },
   "file_extension": ".py",
   "mimetype": "text/x-python",
   "name": "python",
   "nbconvert_exporter": "python",
   "pygments_lexer": "ipython3",
   "version": "3.9.12"
  },
  "vscode": {
   "interpreter": {
    "hash": "0c7e7f3bbf4a7f7f6f73f34a687fa8ee0680a62a46cef3641df3daab4f224d43"
   }
  }
 },
 "nbformat": 4,
 "nbformat_minor": 5
}

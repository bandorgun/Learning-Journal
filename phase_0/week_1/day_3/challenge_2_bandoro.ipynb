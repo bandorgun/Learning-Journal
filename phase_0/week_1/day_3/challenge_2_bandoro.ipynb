{
 "cells": [
  {
   "cell_type": "markdown",
   "metadata": {},
   "source": [
    "# Challenge 2: Loop, Conditional IF, Function, Numpy"
   ]
  },
  {
   "cell_type": "markdown",
   "metadata": {},
   "source": [
    "Buatlah sebuah fungsi untuk mendeteksi suatu kata terdapat pada suatu kalimat dan posisinya berada di kata ke-berapa dalam sebuah kalimat. Gunakan Loop, Conditional If, dan Numpy array untuk kasus ini."
   ]
  },
  {
   "cell_type": "markdown",
   "metadata": {},
   "source": [
    "Expected Output 1:\n",
    "In: word_detection(\"apa\", \"apa kabar kamu?\")\n",
    "Out: Kata 'apa' berada di kata ke-1 pada kalimat ini.\n",
    "\n",
    "Expected Output 2:\n",
    "In: word_detection(\"apa\", \"kamu siapa namanya?\")\n",
    "Out: Kata 'apa' tidak terdapat pada kalimat ini."
   ]
  },
  {
   "cell_type": "code",
   "execution_count": 59,
   "metadata": {},
   "outputs": [
    {
     "name": "stdout",
     "output_type": "stream",
     "text": [
      "Kata 'apa' berada di kata ke-1 pada kalimat ini.\n",
      "Kata 'apa' tidak terdapat pada kalimat ini.\n"
     ]
    }
   ],
   "source": [
    "def word_detection(kata, kalimat):\n",
    "    kalimat = kalimat.split(\" \")\n",
    "    for i in kalimat:\n",
    "        if i == kata:\n",
    "            print(f\"Kata '{kata}' berada di kata ke-{kalimat.index(i) +1} pada kalimat ini.\")\n",
    "            break\n",
    "        elif i != kata:\n",
    "            continue\n",
    "    else:\n",
    "        print(f\"Kata '{kata}' tidak terdapat pada kalimat ini.\")\n",
    "            \n",
    "\n",
    "word_detection(\"apa\", \"apa kabar kamu?\")\n",
    "word_detection(\"apa\", \"kamu siapa namanya?\")"
   ]
  },
  {
   "cell_type": "code",
   "execution_count": 2,
   "metadata": {},
   "outputs": [],
   "source": [
    "import numpy as np"
   ]
  },
  {
   "cell_type": "code",
   "execution_count": 23,
   "metadata": {},
   "outputs": [
    {
     "name": "stdout",
     "output_type": "stream",
     "text": [
      "Kata kamu berada di kata ke-3  pada kalimat (apa kabar kamu ?) ini.\n"
     ]
    }
   ],
   "source": [
    "def word_detection(word,sentence):\n",
    "    split = np.array(sentence.split()) #split sentence(kalimat) menjadi list (dipisah berdasar space \" \").lalu di transformasi menjadi array\n",
    "    for idx,kata in enumerate(split): #ndenumerate untuk ekstrak index dan value nya\n",
    "        if kata.lower() == word.lower(): #lower untuk avoid\n",
    "            print(f\"Kata {word.lower()} berada di kata ke-{idx+1}  pada kalimat ({sentence}) ini.\")\n",
    "            break\n",
    "        elif kata.lower() != word.lower():\n",
    "            continue\n",
    "    else:\n",
    "        print(f\"Kata {word.lower()} tidak terdapat pada kalimat ({sentence}) ini.\")\n",
    "\n",
    "word_detection(\"kamu\", \"apa kabar kamu ?\")\n"
   ]
  },
  {
   "cell_type": "code",
   "execution_count": 11,
   "metadata": {},
   "outputs": [
    {
     "data": {
      "text/plain": [
       "array(['Nama', 'saya', 'Bandoro'], dtype='<U7')"
      ]
     },
     "execution_count": 11,
     "metadata": {},
     "output_type": "execute_result"
    }
   ],
   "source": [
    "sentence = \"Nama saya Bandoro\"\n",
    "\n",
    "np.array(sentence.split())"
   ]
  }
 ],
 "metadata": {
  "kernelspec": {
   "display_name": "Python 3.9.12 ('base')",
   "language": "python",
   "name": "python3"
  },
  "language_info": {
   "codemirror_mode": {
    "name": "ipython",
    "version": 3
   },
   "file_extension": ".py",
   "mimetype": "text/x-python",
   "name": "python",
   "nbconvert_exporter": "python",
   "pygments_lexer": "ipython3",
   "version": "3.9.12"
  },
  "orig_nbformat": 4,
  "vscode": {
   "interpreter": {
    "hash": "0c7e7f3bbf4a7f7f6f73f34a687fa8ee0680a62a46cef3641df3daab4f224d43"
   }
  }
 },
 "nbformat": 4,
 "nbformat_minor": 2
}
